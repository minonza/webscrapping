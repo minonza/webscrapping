{
 "cells": [
  {
   "cell_type": "code",
   "execution_count": 1,
   "metadata": {},
   "outputs": [],
   "source": [
    "from selenium import webdriver\n",
    "from bs4 import BeautifulSoup\n",
    "import pandas as pd"
   ]
  },
  {
   "cell_type": "code",
   "execution_count": 2,
   "metadata": {},
   "outputs": [],
   "source": [
    "path=r\"C:\\Users\\Mini\\Downloads\\chromedriver_win32\\chromedriver.exe\""
   ]
  },
  {
   "cell_type": "code",
   "execution_count": 3,
   "metadata": {},
   "outputs": [],
   "source": [
    "driver=webdriver.Chrome(path)"
   ]
  },
  {
   "cell_type": "code",
   "execution_count": 4,
   "metadata": {},
   "outputs": [],
   "source": [
    "driver.get('https://forecast.weather.gov/MapClick.php?lat=37.777120000000025&lon=-122.41963999999996#.X5uwmIgzY2w')"
   ]
  },
  {
   "cell_type": "code",
   "execution_count": 5,
   "metadata": {},
   "outputs": [
    {
     "name": "stdout",
     "output_type": "stream",
     "text": [
      "9\n",
      "9\n",
      "4\n",
      "5\n",
      "13\n"
     ]
    }
   ],
   "source": [
    "content=driver.page_source\n",
    "soup=BeautifulSoup(content)\n",
    "period=soup.findAll('p',attrs={'class':'period-name'})\n",
    "print(len(period))\n",
    "short_desc=soup.findAll('p',attrs={'class':'short-desc'})\n",
    "print(len(short_desc))\n",
    "temp=soup.findAll('p',attrs={'class':'temp temp-low'})\n",
    "print(len(temp))\n",
    "temp1=soup.findAll('p',attrs={'class':'temp temp-high'})\n",
    "print(len(temp1))\n",
    "desc=soup.findAll('div',attrs={'class':'col-sm-10 forecast-text'})\n",
    "print(len(desc))"
   ]
  },
  {
   "cell_type": "code",
   "execution_count": 6,
   "metadata": {},
   "outputs": [
    {
     "data": {
      "text/plain": [
       "[<p class=\"period-name\">Today<br/><br/></p>,\n",
       " <p class=\"period-name\">Tonight<br/><br/></p>,\n",
       " <p class=\"period-name\">Sunday<br/><br/></p>,\n",
       " <p class=\"period-name\">Sunday<br/>Night</p>,\n",
       " <p class=\"period-name\">Monday<br/><br/></p>,\n",
       " <p class=\"period-name\">Monday<br/>Night</p>,\n",
       " <p class=\"period-name\">Tuesday<br/><br/></p>,\n",
       " <p class=\"period-name\">Tuesday<br/>Night</p>,\n",
       " <p class=\"period-name\">Wednesday<br/><br/></p>]"
      ]
     },
     "execution_count": 6,
     "metadata": {},
     "output_type": "execute_result"
    }
   ],
   "source": [
    "period"
   ]
  },
  {
   "cell_type": "code",
   "execution_count": 7,
   "metadata": {},
   "outputs": [
    {
     "data": {
      "text/plain": [
       "[<p class=\"short-desc\" style=\"height: 54px;\">Sunny</p>,\n",
       " <p class=\"short-desc\" style=\"height: 54px;\">Clear</p>,\n",
       " <p class=\"short-desc\" style=\"height: 54px;\">Sunny</p>,\n",
       " <p class=\"short-desc\" style=\"height: 54px;\">Clear</p>,\n",
       " <p class=\"short-desc\" style=\"height: 54px;\">Sunny</p>,\n",
       " <p class=\"short-desc\" style=\"height: 54px;\">Clear</p>,\n",
       " <p class=\"short-desc\" style=\"height: 54px;\">Sunny</p>,\n",
       " <p class=\"short-desc\" style=\"height: 54px;\">Mostly Clear</p>,\n",
       " <p class=\"short-desc\" style=\"height: 54px;\">Sunny</p>]"
      ]
     },
     "execution_count": 7,
     "metadata": {},
     "output_type": "execute_result"
    }
   ],
   "source": [
    "short_desc"
   ]
  },
  {
   "cell_type": "code",
   "execution_count": 8,
   "metadata": {},
   "outputs": [
    {
     "data": {
      "text/plain": [
       "[<p class=\"temp temp-low\">Low: 53 °F</p>,\n",
       " <p class=\"temp temp-low\">Low: 53 °F</p>,\n",
       " <p class=\"temp temp-low\">Low: 52 °F</p>,\n",
       " <p class=\"temp temp-low\">Low: 51 °F</p>]"
      ]
     },
     "execution_count": 8,
     "metadata": {},
     "output_type": "execute_result"
    }
   ],
   "source": [
    "temp"
   ]
  },
  {
   "cell_type": "code",
   "execution_count": 9,
   "metadata": {},
   "outputs": [
    {
     "data": {
      "text/plain": [
       "[<p class=\"temp temp-high\">High: 77 °F</p>,\n",
       " <p class=\"temp temp-high\">High: 71 °F</p>,\n",
       " <p class=\"temp temp-high\">High: 73 °F</p>,\n",
       " <p class=\"temp temp-high\">High: 72 °F</p>,\n",
       " <p class=\"temp temp-high\">High: 70 °F</p>]"
      ]
     },
     "execution_count": 9,
     "metadata": {},
     "output_type": "execute_result"
    }
   ],
   "source": [
    "temp1"
   ]
  },
  {
   "cell_type": "code",
   "execution_count": 10,
   "metadata": {},
   "outputs": [
    {
     "data": {
      "text/plain": [
       "[<div class=\"col-sm-10 forecast-text\">Sunny, with a high near 77. Northwest wind 11 to 15 mph, with gusts as high as 29 mph. </div>,\n",
       " <div class=\"col-sm-10 forecast-text\">Clear, with a low around 53. West wind 6 to 14 mph, with gusts as high as 18 mph. </div>,\n",
       " <div class=\"col-sm-10 forecast-text\">Sunny, with a high near 71. West wind 7 to 15 mph, with gusts as high as 20 mph. </div>,\n",
       " <div class=\"col-sm-10 forecast-text\">Clear, with a low around 53. West northwest wind 7 to 17 mph, with gusts as high as 22 mph. </div>,\n",
       " <div class=\"col-sm-10 forecast-text\">Sunny, with a high near 73. Light west northwest wind increasing to 10 to 15 mph in the morning. Winds could gust as high as 20 mph. </div>,\n",
       " <div class=\"col-sm-10 forecast-text\">Clear, with a low around 52.</div>,\n",
       " <div class=\"col-sm-10 forecast-text\">Sunny, with a high near 72.</div>,\n",
       " <div class=\"col-sm-10 forecast-text\">Mostly clear, with a low around 51.</div>,\n",
       " <div class=\"col-sm-10 forecast-text\">Sunny, with a high near 70.</div>,\n",
       " <div class=\"col-sm-10 forecast-text\">Mostly clear, with a low around 51.</div>,\n",
       " <div class=\"col-sm-10 forecast-text\">Mostly sunny, with a high near 66.</div>,\n",
       " <div class=\"col-sm-10 forecast-text\">Mostly clear, with a low around 51.</div>,\n",
       " <div class=\"col-sm-10 forecast-text\">Sunny, with a high near 65.</div>]"
      ]
     },
     "execution_count": 10,
     "metadata": {},
     "output_type": "execute_result"
    }
   ],
   "source": [
    "desc"
   ]
  },
  {
   "cell_type": "code",
   "execution_count": 11,
   "metadata": {},
   "outputs": [],
   "source": [
    "Period=[]\n",
    "Short_desc=[]\n",
    "Temp=[]\n",
    "Temp1=[]\n",
    "Desc=[]"
   ]
  },
  {
   "cell_type": "code",
   "execution_count": 12,
   "metadata": {},
   "outputs": [
    {
     "data": {
      "text/plain": [
       "['Today',\n",
       " 'Tonight',\n",
       " 'Sunday',\n",
       " 'SundayNight',\n",
       " 'Monday',\n",
       " 'MondayNight',\n",
       " 'Tuesday',\n",
       " 'TuesdayNight',\n",
       " 'Wednesday']"
      ]
     },
     "execution_count": 12,
     "metadata": {},
     "output_type": "execute_result"
    }
   ],
   "source": [
    "for i in period:\n",
    "    Period.append(i.text)\n",
    "Period"
   ]
  },
  {
   "cell_type": "code",
   "execution_count": 13,
   "metadata": {},
   "outputs": [
    {
     "data": {
      "text/html": [
       "<div>\n",
       "<style scoped>\n",
       "    .dataframe tbody tr th:only-of-type {\n",
       "        vertical-align: middle;\n",
       "    }\n",
       "\n",
       "    .dataframe tbody tr th {\n",
       "        vertical-align: top;\n",
       "    }\n",
       "\n",
       "    .dataframe thead th {\n",
       "        text-align: right;\n",
       "    }\n",
       "</style>\n",
       "<table border=\"1\" class=\"dataframe\">\n",
       "  <thead>\n",
       "    <tr style=\"text-align: right;\">\n",
       "      <th></th>\n",
       "      <th>Period</th>\n",
       "    </tr>\n",
       "  </thead>\n",
       "  <tbody>\n",
       "    <tr>\n",
       "      <th>0</th>\n",
       "      <td>Today</td>\n",
       "    </tr>\n",
       "    <tr>\n",
       "      <th>1</th>\n",
       "      <td>Tonight</td>\n",
       "    </tr>\n",
       "    <tr>\n",
       "      <th>2</th>\n",
       "      <td>Sunday</td>\n",
       "    </tr>\n",
       "    <tr>\n",
       "      <th>3</th>\n",
       "      <td>SundayNight</td>\n",
       "    </tr>\n",
       "    <tr>\n",
       "      <th>4</th>\n",
       "      <td>Monday</td>\n",
       "    </tr>\n",
       "    <tr>\n",
       "      <th>5</th>\n",
       "      <td>MondayNight</td>\n",
       "    </tr>\n",
       "    <tr>\n",
       "      <th>6</th>\n",
       "      <td>Tuesday</td>\n",
       "    </tr>\n",
       "    <tr>\n",
       "      <th>7</th>\n",
       "      <td>TuesdayNight</td>\n",
       "    </tr>\n",
       "    <tr>\n",
       "      <th>8</th>\n",
       "      <td>Wednesday</td>\n",
       "    </tr>\n",
       "  </tbody>\n",
       "</table>\n",
       "</div>"
      ],
      "text/plain": [
       "         Period\n",
       "0         Today\n",
       "1       Tonight\n",
       "2        Sunday\n",
       "3   SundayNight\n",
       "4        Monday\n",
       "5   MondayNight\n",
       "6       Tuesday\n",
       "7  TuesdayNight\n",
       "8     Wednesday"
      ]
     },
     "execution_count": 13,
     "metadata": {},
     "output_type": "execute_result"
    }
   ],
   "source": [
    "df=pd.DataFrame(Period)\n",
    "df=df.rename({0:'Period'},axis=1)\n",
    "df"
   ]
  },
  {
   "cell_type": "code",
   "execution_count": 15,
   "metadata": {},
   "outputs": [
    {
     "data": {
      "text/plain": [
       "['Sunny',\n",
       " 'Clear',\n",
       " 'Sunny',\n",
       " 'Clear',\n",
       " 'Sunny',\n",
       " 'Clear',\n",
       " 'Sunny',\n",
       " 'Mostly Clear',\n",
       " 'Sunny']"
      ]
     },
     "execution_count": 15,
     "metadata": {},
     "output_type": "execute_result"
    }
   ],
   "source": [
    "for i in short_desc:\n",
    "    Short_desc.append(i.text)\n",
    "Short_desc"
   ]
  },
  {
   "cell_type": "code",
   "execution_count": 16,
   "metadata": {},
   "outputs": [
    {
     "data": {
      "text/html": [
       "<div>\n",
       "<style scoped>\n",
       "    .dataframe tbody tr th:only-of-type {\n",
       "        vertical-align: middle;\n",
       "    }\n",
       "\n",
       "    .dataframe tbody tr th {\n",
       "        vertical-align: top;\n",
       "    }\n",
       "\n",
       "    .dataframe thead th {\n",
       "        text-align: right;\n",
       "    }\n",
       "</style>\n",
       "<table border=\"1\" class=\"dataframe\">\n",
       "  <thead>\n",
       "    <tr style=\"text-align: right;\">\n",
       "      <th></th>\n",
       "      <th>Short_desc</th>\n",
       "    </tr>\n",
       "  </thead>\n",
       "  <tbody>\n",
       "    <tr>\n",
       "      <th>0</th>\n",
       "      <td>Sunny</td>\n",
       "    </tr>\n",
       "    <tr>\n",
       "      <th>1</th>\n",
       "      <td>Clear</td>\n",
       "    </tr>\n",
       "    <tr>\n",
       "      <th>2</th>\n",
       "      <td>Sunny</td>\n",
       "    </tr>\n",
       "    <tr>\n",
       "      <th>3</th>\n",
       "      <td>Clear</td>\n",
       "    </tr>\n",
       "    <tr>\n",
       "      <th>4</th>\n",
       "      <td>Sunny</td>\n",
       "    </tr>\n",
       "    <tr>\n",
       "      <th>5</th>\n",
       "      <td>Clear</td>\n",
       "    </tr>\n",
       "    <tr>\n",
       "      <th>6</th>\n",
       "      <td>Sunny</td>\n",
       "    </tr>\n",
       "    <tr>\n",
       "      <th>7</th>\n",
       "      <td>Mostly Clear</td>\n",
       "    </tr>\n",
       "    <tr>\n",
       "      <th>8</th>\n",
       "      <td>Sunny</td>\n",
       "    </tr>\n",
       "  </tbody>\n",
       "</table>\n",
       "</div>"
      ],
      "text/plain": [
       "     Short_desc\n",
       "0         Sunny\n",
       "1         Clear\n",
       "2         Sunny\n",
       "3         Clear\n",
       "4         Sunny\n",
       "5         Clear\n",
       "6         Sunny\n",
       "7  Mostly Clear\n",
       "8         Sunny"
      ]
     },
     "execution_count": 16,
     "metadata": {},
     "output_type": "execute_result"
    }
   ],
   "source": [
    "df1=pd.DataFrame(Short_desc)\n",
    "df1=df1.rename({0:'Short_desc'},axis=1)\n",
    "df1"
   ]
  },
  {
   "cell_type": "code",
   "execution_count": 17,
   "metadata": {},
   "outputs": [
    {
     "data": {
      "text/plain": [
       "['Low: 53 °F', 'Low: 53 °F', 'Low: 52 °F', 'Low: 51 °F']"
      ]
     },
     "execution_count": 17,
     "metadata": {},
     "output_type": "execute_result"
    }
   ],
   "source": [
    "for i in temp:\n",
    "    Temp.append(i.text)\n",
    "Temp"
   ]
  },
  {
   "cell_type": "code",
   "execution_count": 18,
   "metadata": {},
   "outputs": [
    {
     "data": {
      "text/html": [
       "<div>\n",
       "<style scoped>\n",
       "    .dataframe tbody tr th:only-of-type {\n",
       "        vertical-align: middle;\n",
       "    }\n",
       "\n",
       "    .dataframe tbody tr th {\n",
       "        vertical-align: top;\n",
       "    }\n",
       "\n",
       "    .dataframe thead th {\n",
       "        text-align: right;\n",
       "    }\n",
       "</style>\n",
       "<table border=\"1\" class=\"dataframe\">\n",
       "  <thead>\n",
       "    <tr style=\"text-align: right;\">\n",
       "      <th></th>\n",
       "      <th>0</th>\n",
       "    </tr>\n",
       "  </thead>\n",
       "  <tbody>\n",
       "    <tr>\n",
       "      <th>0</th>\n",
       "      <td>Low: 53 °F</td>\n",
       "    </tr>\n",
       "    <tr>\n",
       "      <th>1</th>\n",
       "      <td>Low: 53 °F</td>\n",
       "    </tr>\n",
       "    <tr>\n",
       "      <th>2</th>\n",
       "      <td>Low: 52 °F</td>\n",
       "    </tr>\n",
       "    <tr>\n",
       "      <th>3</th>\n",
       "      <td>Low: 51 °F</td>\n",
       "    </tr>\n",
       "  </tbody>\n",
       "</table>\n",
       "</div>"
      ],
      "text/plain": [
       "            0\n",
       "0  Low: 53 °F\n",
       "1  Low: 53 °F\n",
       "2  Low: 52 °F\n",
       "3  Low: 51 °F"
      ]
     },
     "execution_count": 18,
     "metadata": {},
     "output_type": "execute_result"
    }
   ],
   "source": [
    "df2=pd.DataFrame(Temp)\n",
    "df2"
   ]
  },
  {
   "cell_type": "code",
   "execution_count": 19,
   "metadata": {},
   "outputs": [
    {
     "data": {
      "text/plain": [
       "['High: 77 °F', 'High: 71 °F', 'High: 73 °F', 'High: 72 °F', 'High: 70 °F']"
      ]
     },
     "execution_count": 19,
     "metadata": {},
     "output_type": "execute_result"
    }
   ],
   "source": [
    "for i in temp1:\n",
    "    Temp1.append(i.text)\n",
    "Temp1"
   ]
  },
  {
   "cell_type": "code",
   "execution_count": 20,
   "metadata": {},
   "outputs": [
    {
     "data": {
      "text/html": [
       "<div>\n",
       "<style scoped>\n",
       "    .dataframe tbody tr th:only-of-type {\n",
       "        vertical-align: middle;\n",
       "    }\n",
       "\n",
       "    .dataframe tbody tr th {\n",
       "        vertical-align: top;\n",
       "    }\n",
       "\n",
       "    .dataframe thead th {\n",
       "        text-align: right;\n",
       "    }\n",
       "</style>\n",
       "<table border=\"1\" class=\"dataframe\">\n",
       "  <thead>\n",
       "    <tr style=\"text-align: right;\">\n",
       "      <th></th>\n",
       "      <th>0</th>\n",
       "    </tr>\n",
       "  </thead>\n",
       "  <tbody>\n",
       "    <tr>\n",
       "      <th>0</th>\n",
       "      <td>High: 77 °F</td>\n",
       "    </tr>\n",
       "    <tr>\n",
       "      <th>1</th>\n",
       "      <td>High: 71 °F</td>\n",
       "    </tr>\n",
       "    <tr>\n",
       "      <th>2</th>\n",
       "      <td>High: 73 °F</td>\n",
       "    </tr>\n",
       "    <tr>\n",
       "      <th>3</th>\n",
       "      <td>High: 72 °F</td>\n",
       "    </tr>\n",
       "    <tr>\n",
       "      <th>4</th>\n",
       "      <td>High: 70 °F</td>\n",
       "    </tr>\n",
       "  </tbody>\n",
       "</table>\n",
       "</div>"
      ],
      "text/plain": [
       "             0\n",
       "0  High: 77 °F\n",
       "1  High: 71 °F\n",
       "2  High: 73 °F\n",
       "3  High: 72 °F\n",
       "4  High: 70 °F"
      ]
     },
     "execution_count": 20,
     "metadata": {},
     "output_type": "execute_result"
    }
   ],
   "source": [
    "df3=pd.DataFrame(Temp1)\n",
    "df3"
   ]
  },
  {
   "cell_type": "code",
   "execution_count": 21,
   "metadata": {},
   "outputs": [
    {
     "data": {
      "text/html": [
       "<div>\n",
       "<style scoped>\n",
       "    .dataframe tbody tr th:only-of-type {\n",
       "        vertical-align: middle;\n",
       "    }\n",
       "\n",
       "    .dataframe tbody tr th {\n",
       "        vertical-align: top;\n",
       "    }\n",
       "\n",
       "    .dataframe thead th {\n",
       "        text-align: right;\n",
       "    }\n",
       "</style>\n",
       "<table border=\"1\" class=\"dataframe\">\n",
       "  <thead>\n",
       "    <tr style=\"text-align: right;\">\n",
       "      <th></th>\n",
       "      <th>Temperature</th>\n",
       "    </tr>\n",
       "  </thead>\n",
       "  <tbody>\n",
       "    <tr>\n",
       "      <th>0</th>\n",
       "      <td>Low: 53 °F</td>\n",
       "    </tr>\n",
       "    <tr>\n",
       "      <th>1</th>\n",
       "      <td>High: 77 °F</td>\n",
       "    </tr>\n",
       "    <tr>\n",
       "      <th>2</th>\n",
       "      <td>Low: 53 °F</td>\n",
       "    </tr>\n",
       "    <tr>\n",
       "      <th>3</th>\n",
       "      <td>High: 71 °F</td>\n",
       "    </tr>\n",
       "    <tr>\n",
       "      <th>4</th>\n",
       "      <td>Low: 52 °F</td>\n",
       "    </tr>\n",
       "    <tr>\n",
       "      <th>5</th>\n",
       "      <td>High: 73 °F</td>\n",
       "    </tr>\n",
       "    <tr>\n",
       "      <th>6</th>\n",
       "      <td>Low: 51 °F</td>\n",
       "    </tr>\n",
       "    <tr>\n",
       "      <th>7</th>\n",
       "      <td>High: 72 °F</td>\n",
       "    </tr>\n",
       "    <tr>\n",
       "      <th>8</th>\n",
       "      <td>High: 70 °F</td>\n",
       "    </tr>\n",
       "  </tbody>\n",
       "</table>\n",
       "</div>"
      ],
      "text/plain": [
       "   Temperature\n",
       "0   Low: 53 °F\n",
       "1  High: 77 °F\n",
       "2   Low: 53 °F\n",
       "3  High: 71 °F\n",
       "4   Low: 52 °F\n",
       "5  High: 73 °F\n",
       "6   Low: 51 °F\n",
       "7  High: 72 °F\n",
       "8  High: 70 °F"
      ]
     },
     "execution_count": 21,
     "metadata": {},
     "output_type": "execute_result"
    }
   ],
   "source": [
    "df4=pd.concat([df2,df3]).sort_index(kind='merge')\n",
    "df4=df4.reset_index(drop=True)\n",
    "df4=df4.rename({0:'Temperature'},axis=1)\n",
    "df4"
   ]
  },
  {
   "cell_type": "code",
   "execution_count": 22,
   "metadata": {},
   "outputs": [
    {
     "data": {
      "text/plain": [
       "['Sunny, with a high near 77. Northwest wind 11 to 15 mph, with gusts as high as 29 mph. ',\n",
       " 'Clear, with a low around 53. West wind 6 to 14 mph, with gusts as high as 18 mph. ',\n",
       " 'Sunny, with a high near 71. West wind 7 to 15 mph, with gusts as high as 20 mph. ',\n",
       " 'Clear, with a low around 53. West northwest wind 7 to 17 mph, with gusts as high as 22 mph. ',\n",
       " 'Sunny, with a high near 73. Light west northwest wind increasing to 10 to 15 mph in the morning. Winds could gust as high as 20 mph. ',\n",
       " 'Clear, with a low around 52.',\n",
       " 'Sunny, with a high near 72.',\n",
       " 'Mostly clear, with a low around 51.',\n",
       " 'Sunny, with a high near 70.',\n",
       " 'Mostly clear, with a low around 51.',\n",
       " 'Mostly sunny, with a high near 66.',\n",
       " 'Mostly clear, with a low around 51.',\n",
       " 'Sunny, with a high near 65.']"
      ]
     },
     "execution_count": 22,
     "metadata": {},
     "output_type": "execute_result"
    }
   ],
   "source": [
    "for i in desc:\n",
    "    Desc.append(i.text)\n",
    "Desc"
   ]
  },
  {
   "cell_type": "code",
   "execution_count": 23,
   "metadata": {},
   "outputs": [
    {
     "data": {
      "text/html": [
       "<div>\n",
       "<style scoped>\n",
       "    .dataframe tbody tr th:only-of-type {\n",
       "        vertical-align: middle;\n",
       "    }\n",
       "\n",
       "    .dataframe tbody tr th {\n",
       "        vertical-align: top;\n",
       "    }\n",
       "\n",
       "    .dataframe thead th {\n",
       "        text-align: right;\n",
       "    }\n",
       "</style>\n",
       "<table border=\"1\" class=\"dataframe\">\n",
       "  <thead>\n",
       "    <tr style=\"text-align: right;\">\n",
       "      <th></th>\n",
       "      <th>Description</th>\n",
       "    </tr>\n",
       "  </thead>\n",
       "  <tbody>\n",
       "    <tr>\n",
       "      <th>0</th>\n",
       "      <td>Sunny, with a high near 77. Northwest wind 11 ...</td>\n",
       "    </tr>\n",
       "    <tr>\n",
       "      <th>1</th>\n",
       "      <td>Clear, with a low around 53. West wind 6 to 14...</td>\n",
       "    </tr>\n",
       "    <tr>\n",
       "      <th>2</th>\n",
       "      <td>Sunny, with a high near 71. West wind 7 to 15 ...</td>\n",
       "    </tr>\n",
       "    <tr>\n",
       "      <th>3</th>\n",
       "      <td>Clear, with a low around 53. West northwest wi...</td>\n",
       "    </tr>\n",
       "    <tr>\n",
       "      <th>4</th>\n",
       "      <td>Sunny, with a high near 73. Light west northwe...</td>\n",
       "    </tr>\n",
       "    <tr>\n",
       "      <th>5</th>\n",
       "      <td>Clear, with a low around 52.</td>\n",
       "    </tr>\n",
       "    <tr>\n",
       "      <th>6</th>\n",
       "      <td>Sunny, with a high near 72.</td>\n",
       "    </tr>\n",
       "    <tr>\n",
       "      <th>7</th>\n",
       "      <td>Mostly clear, with a low around 51.</td>\n",
       "    </tr>\n",
       "    <tr>\n",
       "      <th>8</th>\n",
       "      <td>Sunny, with a high near 70.</td>\n",
       "    </tr>\n",
       "  </tbody>\n",
       "</table>\n",
       "</div>"
      ],
      "text/plain": [
       "                                         Description\n",
       "0  Sunny, with a high near 77. Northwest wind 11 ...\n",
       "1  Clear, with a low around 53. West wind 6 to 14...\n",
       "2  Sunny, with a high near 71. West wind 7 to 15 ...\n",
       "3  Clear, with a low around 53. West northwest wi...\n",
       "4  Sunny, with a high near 73. Light west northwe...\n",
       "5                       Clear, with a low around 52.\n",
       "6                        Sunny, with a high near 72.\n",
       "7                Mostly clear, with a low around 51.\n",
       "8                        Sunny, with a high near 70."
      ]
     },
     "execution_count": 23,
     "metadata": {},
     "output_type": "execute_result"
    }
   ],
   "source": [
    "df5=pd.DataFrame(Desc)\n",
    "df5=df5.rename({0:'Description'},axis=1)\n",
    "df5=df5.iloc[0:9]\n",
    "df5"
   ]
  },
  {
   "cell_type": "code",
   "execution_count": 24,
   "metadata": {},
   "outputs": [
    {
     "data": {
      "text/html": [
       "<div>\n",
       "<style scoped>\n",
       "    .dataframe tbody tr th:only-of-type {\n",
       "        vertical-align: middle;\n",
       "    }\n",
       "\n",
       "    .dataframe tbody tr th {\n",
       "        vertical-align: top;\n",
       "    }\n",
       "\n",
       "    .dataframe thead th {\n",
       "        text-align: right;\n",
       "    }\n",
       "</style>\n",
       "<table border=\"1\" class=\"dataframe\">\n",
       "  <thead>\n",
       "    <tr style=\"text-align: right;\">\n",
       "      <th></th>\n",
       "      <th>Period</th>\n",
       "      <th>Short_desc</th>\n",
       "      <th>Temperature</th>\n",
       "      <th>Description</th>\n",
       "    </tr>\n",
       "  </thead>\n",
       "  <tbody>\n",
       "    <tr>\n",
       "      <th>0</th>\n",
       "      <td>Today</td>\n",
       "      <td>Sunny</td>\n",
       "      <td>Low: 53 °F</td>\n",
       "      <td>Sunny, with a high near 77. Northwest wind 11 ...</td>\n",
       "    </tr>\n",
       "    <tr>\n",
       "      <th>1</th>\n",
       "      <td>Tonight</td>\n",
       "      <td>Clear</td>\n",
       "      <td>High: 77 °F</td>\n",
       "      <td>Clear, with a low around 53. West wind 6 to 14...</td>\n",
       "    </tr>\n",
       "    <tr>\n",
       "      <th>2</th>\n",
       "      <td>Sunday</td>\n",
       "      <td>Sunny</td>\n",
       "      <td>Low: 53 °F</td>\n",
       "      <td>Sunny, with a high near 71. West wind 7 to 15 ...</td>\n",
       "    </tr>\n",
       "    <tr>\n",
       "      <th>3</th>\n",
       "      <td>SundayNight</td>\n",
       "      <td>Clear</td>\n",
       "      <td>High: 71 °F</td>\n",
       "      <td>Clear, with a low around 53. West northwest wi...</td>\n",
       "    </tr>\n",
       "    <tr>\n",
       "      <th>4</th>\n",
       "      <td>Monday</td>\n",
       "      <td>Sunny</td>\n",
       "      <td>Low: 52 °F</td>\n",
       "      <td>Sunny, with a high near 73. Light west northwe...</td>\n",
       "    </tr>\n",
       "    <tr>\n",
       "      <th>5</th>\n",
       "      <td>MondayNight</td>\n",
       "      <td>Clear</td>\n",
       "      <td>High: 73 °F</td>\n",
       "      <td>Clear, with a low around 52.</td>\n",
       "    </tr>\n",
       "    <tr>\n",
       "      <th>6</th>\n",
       "      <td>Tuesday</td>\n",
       "      <td>Sunny</td>\n",
       "      <td>Low: 51 °F</td>\n",
       "      <td>Sunny, with a high near 72.</td>\n",
       "    </tr>\n",
       "    <tr>\n",
       "      <th>7</th>\n",
       "      <td>TuesdayNight</td>\n",
       "      <td>Mostly Clear</td>\n",
       "      <td>High: 72 °F</td>\n",
       "      <td>Mostly clear, with a low around 51.</td>\n",
       "    </tr>\n",
       "    <tr>\n",
       "      <th>8</th>\n",
       "      <td>Wednesday</td>\n",
       "      <td>Sunny</td>\n",
       "      <td>High: 70 °F</td>\n",
       "      <td>Sunny, with a high near 70.</td>\n",
       "    </tr>\n",
       "  </tbody>\n",
       "</table>\n",
       "</div>"
      ],
      "text/plain": [
       "         Period    Short_desc  Temperature  \\\n",
       "0         Today         Sunny   Low: 53 °F   \n",
       "1       Tonight         Clear  High: 77 °F   \n",
       "2        Sunday         Sunny   Low: 53 °F   \n",
       "3   SundayNight         Clear  High: 71 °F   \n",
       "4        Monday         Sunny   Low: 52 °F   \n",
       "5   MondayNight         Clear  High: 73 °F   \n",
       "6       Tuesday         Sunny   Low: 51 °F   \n",
       "7  TuesdayNight  Mostly Clear  High: 72 °F   \n",
       "8     Wednesday         Sunny  High: 70 °F   \n",
       "\n",
       "                                         Description  \n",
       "0  Sunny, with a high near 77. Northwest wind 11 ...  \n",
       "1  Clear, with a low around 53. West wind 6 to 14...  \n",
       "2  Sunny, with a high near 71. West wind 7 to 15 ...  \n",
       "3  Clear, with a low around 53. West northwest wi...  \n",
       "4  Sunny, with a high near 73. Light west northwe...  \n",
       "5                       Clear, with a low around 52.  \n",
       "6                        Sunny, with a high near 72.  \n",
       "7                Mostly clear, with a low around 51.  \n",
       "8                        Sunny, with a high near 70.  "
      ]
     },
     "execution_count": 24,
     "metadata": {},
     "output_type": "execute_result"
    }
   ],
   "source": [
    "Weather_info=pd.concat([df,df1,df4,df5],axis=1)\n",
    "Weather_info"
   ]
  },
  {
   "cell_type": "code",
   "execution_count": 25,
   "metadata": {},
   "outputs": [],
   "source": [
    "Weather_info.to_csv('Weather_information.csv')"
   ]
  },
  {
   "cell_type": "code",
   "execution_count": null,
   "metadata": {},
   "outputs": [],
   "source": []
  }
 ],
 "metadata": {
  "kernelspec": {
   "display_name": "Python 3",
   "language": "python",
   "name": "python3"
  },
  "language_info": {
   "codemirror_mode": {
    "name": "ipython",
    "version": 3
   },
   "file_extension": ".py",
   "mimetype": "text/x-python",
   "name": "python",
   "nbconvert_exporter": "python",
   "pygments_lexer": "ipython3",
   "version": "3.8.5"
  }
 },
 "nbformat": 4,
 "nbformat_minor": 4
}
