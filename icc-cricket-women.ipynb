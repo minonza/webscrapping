{
 "cells": [
  {
   "cell_type": "code",
   "execution_count": 1,
   "metadata": {},
   "outputs": [],
   "source": [
    "from selenium import webdriver\n",
    "from bs4 import BeautifulSoup\n",
    "import pandas as pd"
   ]
  },
  {
   "cell_type": "code",
   "execution_count": 2,
   "metadata": {},
   "outputs": [],
   "source": [
    "path=r\"C:\\Users\\Mini\\Downloads\\chromedriver_win32\\chromedriver.exe\""
   ]
  },
  {
   "cell_type": "code",
   "execution_count": 3,
   "metadata": {},
   "outputs": [],
   "source": [
    "driver= webdriver.Chrome(path)"
   ]
  },
  {
   "cell_type": "code",
   "execution_count": 4,
   "metadata": {},
   "outputs": [],
   "source": [
    "driver.get('https://www.icc-cricket.com/rankings/womens/team-rankings/odi')"
   ]
  },
  {
   "cell_type": "code",
   "execution_count": 5,
   "metadata": {},
   "outputs": [
    {
     "name": "stdout",
     "output_type": "stream",
     "text": [
      "15\n",
      "1\n",
      "1\n",
      "1\n"
     ]
    }
   ],
   "source": [
    "content=driver.page_source\n",
    "soup=BeautifulSoup(content)\n",
    "names=soup.findAll('span',attrs={'class':'u-show-phablet'})\n",
    "print(len(names))\n",
    "matches=soup.findAll('td',attrs={'class':'rankings-block__banner--matches'})\n",
    "print(len(matches))\n",
    "points=soup.findAll('td',attrs={'class':'rankings-block__banner--points'})\n",
    "print(len(points))\n",
    "rating=soup.findAll('td',attrs={'class':'rankings-block__banner--rating u-text-right'})\n",
    "print(len(rating))"
   ]
  },
  {
   "cell_type": "code",
   "execution_count": 6,
   "metadata": {},
   "outputs": [
    {
     "data": {
      "text/plain": [
       "[<span class=\"u-show-phablet\">AUS</span>,\n",
       " <span class=\"u-show-phablet\">SA</span>,\n",
       " <span class=\"u-show-phablet\">ENG</span>,\n",
       " <span class=\"u-show-phablet\">IND</span>,\n",
       " <span class=\"u-show-phablet\">NZ</span>,\n",
       " <span class=\"u-show-phablet\">WI</span>,\n",
       " <span class=\"u-show-phablet\">PAK</span>,\n",
       " <span class=\"u-show-phablet\">BAN</span>,\n",
       " <span class=\"u-show-phablet\">SL</span>,\n",
       " <span class=\"u-show-phablet\">IRE</span>,\n",
       " <span class=\"icn icn-facebook-circle-small u-show-phablet\"></span>,\n",
       " <span class=\"icn icn-twitter-circle-small u-show-phablet\"></span>,\n",
       " <span class=\"icn icn-instagram-circle-small u-show-phablet\"></span>,\n",
       " <span class=\"icn icn-youtube-circle-small u-show-phablet\"></span>,\n",
       " <span class=\"icn icn-tiktok-circle-small u-show-phablet\"></span>]"
      ]
     },
     "execution_count": 6,
     "metadata": {},
     "output_type": "execute_result"
    }
   ],
   "source": [
    "names"
   ]
  },
  {
   "cell_type": "code",
   "execution_count": 7,
   "metadata": {},
   "outputs": [],
   "source": [
    "Names=[]\n",
    "Matches=[]\n",
    "Matches1=[]\n",
    "Points=[]\n",
    "Points1=[]\n",
    "Rating=[]\n",
    "Rating1=[]"
   ]
  },
  {
   "cell_type": "code",
   "execution_count": 8,
   "metadata": {},
   "outputs": [
    {
     "data": {
      "text/plain": [
       "['AUS',\n",
       " 'SA',\n",
       " 'ENG',\n",
       " 'IND',\n",
       " 'NZ',\n",
       " 'WI',\n",
       " 'PAK',\n",
       " 'BAN',\n",
       " 'SL',\n",
       " 'IRE',\n",
       " '',\n",
       " '',\n",
       " '',\n",
       " '',\n",
       " '']"
      ]
     },
     "execution_count": 8,
     "metadata": {},
     "output_type": "execute_result"
    }
   ],
   "source": [
    "for i in names:\n",
    "    Names.append(i.text)\n",
    "Names"
   ]
  },
  {
   "cell_type": "code",
   "execution_count": 9,
   "metadata": {},
   "outputs": [
    {
     "data": {
      "text/html": [
       "<div>\n",
       "<style scoped>\n",
       "    .dataframe tbody tr th:only-of-type {\n",
       "        vertical-align: middle;\n",
       "    }\n",
       "\n",
       "    .dataframe tbody tr th {\n",
       "        vertical-align: top;\n",
       "    }\n",
       "\n",
       "    .dataframe thead th {\n",
       "        text-align: right;\n",
       "    }\n",
       "</style>\n",
       "<table border=\"1\" class=\"dataframe\">\n",
       "  <thead>\n",
       "    <tr style=\"text-align: right;\">\n",
       "      <th></th>\n",
       "      <th>Team</th>\n",
       "    </tr>\n",
       "  </thead>\n",
       "  <tbody>\n",
       "    <tr>\n",
       "      <th>0</th>\n",
       "      <td>AUS</td>\n",
       "    </tr>\n",
       "    <tr>\n",
       "      <th>1</th>\n",
       "      <td>SA</td>\n",
       "    </tr>\n",
       "    <tr>\n",
       "      <th>2</th>\n",
       "      <td>ENG</td>\n",
       "    </tr>\n",
       "    <tr>\n",
       "      <th>3</th>\n",
       "      <td>IND</td>\n",
       "    </tr>\n",
       "    <tr>\n",
       "      <th>4</th>\n",
       "      <td>NZ</td>\n",
       "    </tr>\n",
       "    <tr>\n",
       "      <th>5</th>\n",
       "      <td>WI</td>\n",
       "    </tr>\n",
       "    <tr>\n",
       "      <th>6</th>\n",
       "      <td>PAK</td>\n",
       "    </tr>\n",
       "    <tr>\n",
       "      <th>7</th>\n",
       "      <td>BAN</td>\n",
       "    </tr>\n",
       "    <tr>\n",
       "      <th>8</th>\n",
       "      <td>SL</td>\n",
       "    </tr>\n",
       "    <tr>\n",
       "      <th>9</th>\n",
       "      <td>IRE</td>\n",
       "    </tr>\n",
       "  </tbody>\n",
       "</table>\n",
       "</div>"
      ],
      "text/plain": [
       "  Team\n",
       "0  AUS\n",
       "1   SA\n",
       "2  ENG\n",
       "3  IND\n",
       "4   NZ\n",
       "5   WI\n",
       "6  PAK\n",
       "7  BAN\n",
       "8   SL\n",
       "9  IRE"
      ]
     },
     "execution_count": 9,
     "metadata": {},
     "output_type": "execute_result"
    }
   ],
   "source": [
    "df=pd.DataFrame(Names)\n",
    "df=df.rename({0:'Team'},axis=1)\n",
    "df=df.iloc[0:10]\n",
    "df"
   ]
  },
  {
   "cell_type": "code",
   "execution_count": 10,
   "metadata": {},
   "outputs": [
    {
     "data": {
      "text/plain": [
       "['18']"
      ]
     },
     "execution_count": 10,
     "metadata": {},
     "output_type": "execute_result"
    }
   ],
   "source": [
    "for i in matches:\n",
    "    Matches.append(i.text)\n",
    "Matches"
   ]
  },
  {
   "cell_type": "code",
   "execution_count": 11,
   "metadata": {},
   "outputs": [
    {
     "data": {
      "text/html": [
       "<div>\n",
       "<style scoped>\n",
       "    .dataframe tbody tr th:only-of-type {\n",
       "        vertical-align: middle;\n",
       "    }\n",
       "\n",
       "    .dataframe tbody tr th {\n",
       "        vertical-align: top;\n",
       "    }\n",
       "\n",
       "    .dataframe thead th {\n",
       "        text-align: right;\n",
       "    }\n",
       "</style>\n",
       "<table border=\"1\" class=\"dataframe\">\n",
       "  <thead>\n",
       "    <tr style=\"text-align: right;\">\n",
       "      <th></th>\n",
       "      <th>Matches</th>\n",
       "    </tr>\n",
       "  </thead>\n",
       "  <tbody>\n",
       "    <tr>\n",
       "      <th>0</th>\n",
       "      <td>18</td>\n",
       "    </tr>\n",
       "  </tbody>\n",
       "</table>\n",
       "</div>"
      ],
      "text/plain": [
       "  Matches\n",
       "0      18"
      ]
     },
     "execution_count": 11,
     "metadata": {},
     "output_type": "execute_result"
    }
   ],
   "source": [
    "df1=pd.DataFrame(Matches)\n",
    "df1=df1.rename({0:'Matches'},axis=1)\n",
    "df1"
   ]
  },
  {
   "cell_type": "code",
   "execution_count": 12,
   "metadata": {},
   "outputs": [
    {
     "data": {
      "text/plain": [
       "['2,955']"
      ]
     },
     "execution_count": 12,
     "metadata": {},
     "output_type": "execute_result"
    }
   ],
   "source": [
    "for i in points:\n",
    "    Points.append(i.text)\n",
    "Points"
   ]
  },
  {
   "cell_type": "code",
   "execution_count": 13,
   "metadata": {},
   "outputs": [
    {
     "data": {
      "text/html": [
       "<div>\n",
       "<style scoped>\n",
       "    .dataframe tbody tr th:only-of-type {\n",
       "        vertical-align: middle;\n",
       "    }\n",
       "\n",
       "    .dataframe tbody tr th {\n",
       "        vertical-align: top;\n",
       "    }\n",
       "\n",
       "    .dataframe thead th {\n",
       "        text-align: right;\n",
       "    }\n",
       "</style>\n",
       "<table border=\"1\" class=\"dataframe\">\n",
       "  <thead>\n",
       "    <tr style=\"text-align: right;\">\n",
       "      <th></th>\n",
       "      <th>Points</th>\n",
       "    </tr>\n",
       "  </thead>\n",
       "  <tbody>\n",
       "    <tr>\n",
       "      <th>0</th>\n",
       "      <td>2,955</td>\n",
       "    </tr>\n",
       "  </tbody>\n",
       "</table>\n",
       "</div>"
      ],
      "text/plain": [
       "  Points\n",
       "0  2,955"
      ]
     },
     "execution_count": 13,
     "metadata": {},
     "output_type": "execute_result"
    }
   ],
   "source": [
    "df2=pd.DataFrame(Points)\n",
    "df2=df2.rename({0:'Points'},axis=1)\n",
    "df2"
   ]
  },
  {
   "cell_type": "code",
   "execution_count": 14,
   "metadata": {},
   "outputs": [
    {
     "data": {
      "text/plain": [
       "['\\n                            164\\n                            \\n\\n']"
      ]
     },
     "execution_count": 14,
     "metadata": {},
     "output_type": "execute_result"
    }
   ],
   "source": [
    "for i in rating:\n",
    "    Rating.append(i.text)\n",
    "Rating"
   ]
  },
  {
   "cell_type": "code",
   "execution_count": 15,
   "metadata": {},
   "outputs": [
    {
     "data": {
      "text/plain": [
       "0                                164\n",
       "Name: Rating, dtype: object"
      ]
     },
     "execution_count": 15,
     "metadata": {},
     "output_type": "execute_result"
    }
   ],
   "source": [
    "df3=pd.DataFrame(Rating)\n",
    "df3=df3.rename({0:'Rating'},axis=1)\n",
    "df3=df3['Rating'].str.split('\\n').str[1]\n",
    "df3"
   ]
  },
  {
   "cell_type": "code",
   "execution_count": 16,
   "metadata": {},
   "outputs": [
    {
     "data": {
      "text/html": [
       "<div>\n",
       "<style scoped>\n",
       "    .dataframe tbody tr th:only-of-type {\n",
       "        vertical-align: middle;\n",
       "    }\n",
       "\n",
       "    .dataframe tbody tr th {\n",
       "        vertical-align: top;\n",
       "    }\n",
       "\n",
       "    .dataframe thead th {\n",
       "        text-align: right;\n",
       "    }\n",
       "</style>\n",
       "<table border=\"1\" class=\"dataframe\">\n",
       "  <thead>\n",
       "    <tr style=\"text-align: right;\">\n",
       "      <th></th>\n",
       "      <th>Rating</th>\n",
       "    </tr>\n",
       "  </thead>\n",
       "  <tbody>\n",
       "    <tr>\n",
       "      <th>0</th>\n",
       "      <td>164</td>\n",
       "    </tr>\n",
       "  </tbody>\n",
       "</table>\n",
       "</div>"
      ],
      "text/plain": [
       "                            Rating\n",
       "0                              164"
      ]
     },
     "execution_count": 16,
     "metadata": {},
     "output_type": "execute_result"
    }
   ],
   "source": [
    "df4=pd.DataFrame(df3)\n",
    "df4"
   ]
  },
  {
   "cell_type": "code",
   "execution_count": 17,
   "metadata": {},
   "outputs": [
    {
     "data": {
      "text/html": [
       "<div>\n",
       "<style scoped>\n",
       "    .dataframe tbody tr th:only-of-type {\n",
       "        vertical-align: middle;\n",
       "    }\n",
       "\n",
       "    .dataframe tbody tr th {\n",
       "        vertical-align: top;\n",
       "    }\n",
       "\n",
       "    .dataframe thead th {\n",
       "        text-align: right;\n",
       "    }\n",
       "</style>\n",
       "<table border=\"1\" class=\"dataframe\">\n",
       "  <thead>\n",
       "    <tr style=\"text-align: right;\">\n",
       "      <th></th>\n",
       "      <th>Matches</th>\n",
       "      <th>Points</th>\n",
       "      <th>Rating</th>\n",
       "    </tr>\n",
       "  </thead>\n",
       "  <tbody>\n",
       "    <tr>\n",
       "      <th>0</th>\n",
       "      <td>18</td>\n",
       "      <td>2,955</td>\n",
       "      <td>164</td>\n",
       "    </tr>\n",
       "  </tbody>\n",
       "</table>\n",
       "</div>"
      ],
      "text/plain": [
       "  Matches Points                           Rating\n",
       "0      18  2,955                              164"
      ]
     },
     "execution_count": 17,
     "metadata": {},
     "output_type": "execute_result"
    }
   ],
   "source": [
    "Aus=pd.concat([df1,df2,df4],axis=1)\n",
    "Aus"
   ]
  },
  {
   "cell_type": "code",
   "execution_count": 18,
   "metadata": {},
   "outputs": [],
   "source": [
    "content=driver.page_source\n",
    "soup= BeautifulSoup(content)"
   ]
  },
  {
   "cell_type": "code",
   "execution_count": 23,
   "metadata": {},
   "outputs": [
    {
     "name": "stdout",
     "output_type": "stream",
     "text": [
      "18\n",
      "18\n",
      "9\n"
     ]
    }
   ],
   "source": [
    "content=driver.page_source\n",
    "soup= BeautifulSoup(content)\n",
    "\n",
    "matches1=soup.findAll('td',attrs={'class':'table-body__cell u-center-text'})\n",
    "print(len(matches1))\n",
    "points1=soup.findAll('td',attrs={'class':'table-body__cell u-center-text'})\n",
    "print(len(points1))\n",
    "rating1=soup.findAll('td',attrs={'class':'table-body__cell u-text-right rating'})\n",
    "print(len(rating1))"
   ]
  },
  {
   "cell_type": "code",
   "execution_count": 24,
   "metadata": {},
   "outputs": [
    {
     "data": {
      "text/plain": [
       "[<td class=\"table-body__cell u-center-text\">24</td>,\n",
       " <td class=\"table-body__cell u-center-text\">2,828</td>,\n",
       " <td class=\"table-body__cell u-center-text\">17</td>,\n",
       " <td class=\"table-body__cell u-center-text\">1,993</td>,\n",
       " <td class=\"table-body__cell u-center-text\">20</td>,\n",
       " <td class=\"table-body__cell u-center-text\">2,226</td>,\n",
       " <td class=\"table-body__cell u-center-text\">21</td>,\n",
       " <td class=\"table-body__cell u-center-text\">1,947</td>,\n",
       " <td class=\"table-body__cell u-center-text\">12</td>,\n",
       " <td class=\"table-body__cell u-center-text\">1,025</td>,\n",
       " <td class=\"table-body__cell u-center-text\">15</td>,\n",
       " <td class=\"table-body__cell u-center-text\">1,101</td>,\n",
       " <td class=\"table-body__cell u-center-text\">5</td>,\n",
       " <td class=\"table-body__cell u-center-text\">306</td>,\n",
       " <td class=\"table-body__cell u-center-text\">11</td>,\n",
       " <td class=\"table-body__cell u-center-text\">519</td>,\n",
       " <td class=\"table-body__cell u-center-text\">2</td>,\n",
       " <td class=\"table-body__cell u-center-text\">25</td>]"
      ]
     },
     "execution_count": 24,
     "metadata": {},
     "output_type": "execute_result"
    }
   ],
   "source": [
    "matches1"
   ]
  },
  {
   "cell_type": "code",
   "execution_count": 25,
   "metadata": {},
   "outputs": [
    {
     "data": {
      "text/plain": [
       "[<td class=\"table-body__cell u-center-text\">24</td>,\n",
       " <td class=\"table-body__cell u-center-text\">2,828</td>,\n",
       " <td class=\"table-body__cell u-center-text\">17</td>,\n",
       " <td class=\"table-body__cell u-center-text\">1,993</td>,\n",
       " <td class=\"table-body__cell u-center-text\">20</td>,\n",
       " <td class=\"table-body__cell u-center-text\">2,226</td>,\n",
       " <td class=\"table-body__cell u-center-text\">21</td>,\n",
       " <td class=\"table-body__cell u-center-text\">1,947</td>,\n",
       " <td class=\"table-body__cell u-center-text\">12</td>,\n",
       " <td class=\"table-body__cell u-center-text\">1,025</td>,\n",
       " <td class=\"table-body__cell u-center-text\">15</td>,\n",
       " <td class=\"table-body__cell u-center-text\">1,101</td>,\n",
       " <td class=\"table-body__cell u-center-text\">5</td>,\n",
       " <td class=\"table-body__cell u-center-text\">306</td>,\n",
       " <td class=\"table-body__cell u-center-text\">11</td>,\n",
       " <td class=\"table-body__cell u-center-text\">519</td>,\n",
       " <td class=\"table-body__cell u-center-text\">2</td>,\n",
       " <td class=\"table-body__cell u-center-text\">25</td>]"
      ]
     },
     "execution_count": 25,
     "metadata": {},
     "output_type": "execute_result"
    }
   ],
   "source": [
    "points1"
   ]
  },
  {
   "cell_type": "code",
   "execution_count": 26,
   "metadata": {},
   "outputs": [
    {
     "data": {
      "text/plain": [
       "['24',\n",
       " '2,828',\n",
       " '17',\n",
       " '1,993',\n",
       " '20',\n",
       " '2,226',\n",
       " '21',\n",
       " '1,947',\n",
       " '12',\n",
       " '1,025',\n",
       " '15',\n",
       " '1,101',\n",
       " '5',\n",
       " '306',\n",
       " '11',\n",
       " '519',\n",
       " '2',\n",
       " '25']"
      ]
     },
     "execution_count": 26,
     "metadata": {},
     "output_type": "execute_result"
    }
   ],
   "source": [
    "for i in matches1:\n",
    "    Matches1.append(i.text)\n",
    "Matches1"
   ]
  },
  {
   "cell_type": "code",
   "execution_count": 27,
   "metadata": {},
   "outputs": [
    {
     "data": {
      "text/html": [
       "<div>\n",
       "<style scoped>\n",
       "    .dataframe tbody tr th:only-of-type {\n",
       "        vertical-align: middle;\n",
       "    }\n",
       "\n",
       "    .dataframe tbody tr th {\n",
       "        vertical-align: top;\n",
       "    }\n",
       "\n",
       "    .dataframe thead th {\n",
       "        text-align: right;\n",
       "    }\n",
       "</style>\n",
       "<table border=\"1\" class=\"dataframe\">\n",
       "  <thead>\n",
       "    <tr style=\"text-align: right;\">\n",
       "      <th></th>\n",
       "      <th>Matches</th>\n",
       "    </tr>\n",
       "  </thead>\n",
       "  <tbody>\n",
       "    <tr>\n",
       "      <th>0</th>\n",
       "      <td>24</td>\n",
       "    </tr>\n",
       "    <tr>\n",
       "      <th>1</th>\n",
       "      <td>17</td>\n",
       "    </tr>\n",
       "    <tr>\n",
       "      <th>2</th>\n",
       "      <td>20</td>\n",
       "    </tr>\n",
       "    <tr>\n",
       "      <th>3</th>\n",
       "      <td>21</td>\n",
       "    </tr>\n",
       "    <tr>\n",
       "      <th>4</th>\n",
       "      <td>12</td>\n",
       "    </tr>\n",
       "    <tr>\n",
       "      <th>5</th>\n",
       "      <td>15</td>\n",
       "    </tr>\n",
       "    <tr>\n",
       "      <th>6</th>\n",
       "      <td>5</td>\n",
       "    </tr>\n",
       "    <tr>\n",
       "      <th>7</th>\n",
       "      <td>11</td>\n",
       "    </tr>\n",
       "    <tr>\n",
       "      <th>8</th>\n",
       "      <td>2</td>\n",
       "    </tr>\n",
       "  </tbody>\n",
       "</table>\n",
       "</div>"
      ],
      "text/plain": [
       "  Matches\n",
       "0      24\n",
       "1      17\n",
       "2      20\n",
       "3      21\n",
       "4      12\n",
       "5      15\n",
       "6       5\n",
       "7      11\n",
       "8       2"
      ]
     },
     "execution_count": 27,
     "metadata": {},
     "output_type": "execute_result"
    }
   ],
   "source": [
    "df5=pd.DataFrame(Matches1)\n",
    "df6=df5.iloc[0:18:2]\n",
    "df6.index=range(9)\n",
    "df6=df6.rename({0: 'Matches'},axis=1)\n",
    "df6=df6.iloc[0:9]\n",
    "df6"
   ]
  },
  {
   "cell_type": "code",
   "execution_count": 28,
   "metadata": {},
   "outputs": [
    {
     "data": {
      "text/plain": [
       "['24',\n",
       " '2,828',\n",
       " '17',\n",
       " '1,993',\n",
       " '20',\n",
       " '2,226',\n",
       " '21',\n",
       " '1,947',\n",
       " '12',\n",
       " '1,025',\n",
       " '15',\n",
       " '1,101',\n",
       " '5',\n",
       " '306',\n",
       " '11',\n",
       " '519',\n",
       " '2',\n",
       " '25']"
      ]
     },
     "execution_count": 28,
     "metadata": {},
     "output_type": "execute_result"
    }
   ],
   "source": [
    "for i in points1:\n",
    "    Points1.append(i.text)\n",
    "Points1"
   ]
  },
  {
   "cell_type": "code",
   "execution_count": 29,
   "metadata": {},
   "outputs": [
    {
     "data": {
      "text/html": [
       "<div>\n",
       "<style scoped>\n",
       "    .dataframe tbody tr th:only-of-type {\n",
       "        vertical-align: middle;\n",
       "    }\n",
       "\n",
       "    .dataframe tbody tr th {\n",
       "        vertical-align: top;\n",
       "    }\n",
       "\n",
       "    .dataframe thead th {\n",
       "        text-align: right;\n",
       "    }\n",
       "</style>\n",
       "<table border=\"1\" class=\"dataframe\">\n",
       "  <thead>\n",
       "    <tr style=\"text-align: right;\">\n",
       "      <th></th>\n",
       "      <th>Points</th>\n",
       "    </tr>\n",
       "  </thead>\n",
       "  <tbody>\n",
       "    <tr>\n",
       "      <th>0</th>\n",
       "      <td>2,828</td>\n",
       "    </tr>\n",
       "    <tr>\n",
       "      <th>1</th>\n",
       "      <td>1,993</td>\n",
       "    </tr>\n",
       "    <tr>\n",
       "      <th>2</th>\n",
       "      <td>2,226</td>\n",
       "    </tr>\n",
       "    <tr>\n",
       "      <th>3</th>\n",
       "      <td>1,947</td>\n",
       "    </tr>\n",
       "    <tr>\n",
       "      <th>4</th>\n",
       "      <td>1,025</td>\n",
       "    </tr>\n",
       "    <tr>\n",
       "      <th>5</th>\n",
       "      <td>1,101</td>\n",
       "    </tr>\n",
       "    <tr>\n",
       "      <th>6</th>\n",
       "      <td>306</td>\n",
       "    </tr>\n",
       "    <tr>\n",
       "      <th>7</th>\n",
       "      <td>519</td>\n",
       "    </tr>\n",
       "    <tr>\n",
       "      <th>8</th>\n",
       "      <td>25</td>\n",
       "    </tr>\n",
       "  </tbody>\n",
       "</table>\n",
       "</div>"
      ],
      "text/plain": [
       "  Points\n",
       "0  2,828\n",
       "1  1,993\n",
       "2  2,226\n",
       "3  1,947\n",
       "4  1,025\n",
       "5  1,101\n",
       "6    306\n",
       "7    519\n",
       "8     25"
      ]
     },
     "execution_count": 29,
     "metadata": {},
     "output_type": "execute_result"
    }
   ],
   "source": [
    "df7=pd.DataFrame(Points1)\n",
    "df8=df7.iloc[1:18:2]\n",
    "df8.index=range(9)\n",
    "df8=df8.rename({0: 'Points'},axis=1)\n",
    "df8=df8.iloc[0:9]\n",
    "df8"
   ]
  },
  {
   "cell_type": "code",
   "execution_count": 30,
   "metadata": {},
   "outputs": [
    {
     "data": {
      "text/plain": [
       "['118', '117', '111', '93', '85', '73', '61', '47', '13']"
      ]
     },
     "execution_count": 30,
     "metadata": {},
     "output_type": "execute_result"
    }
   ],
   "source": [
    "for i in rating1:\n",
    "    Rating1.append(i.text)\n",
    "Rating1"
   ]
  },
  {
   "cell_type": "code",
   "execution_count": 31,
   "metadata": {},
   "outputs": [
    {
     "data": {
      "text/html": [
       "<div>\n",
       "<style scoped>\n",
       "    .dataframe tbody tr th:only-of-type {\n",
       "        vertical-align: middle;\n",
       "    }\n",
       "\n",
       "    .dataframe tbody tr th {\n",
       "        vertical-align: top;\n",
       "    }\n",
       "\n",
       "    .dataframe thead th {\n",
       "        text-align: right;\n",
       "    }\n",
       "</style>\n",
       "<table border=\"1\" class=\"dataframe\">\n",
       "  <thead>\n",
       "    <tr style=\"text-align: right;\">\n",
       "      <th></th>\n",
       "      <th>Rating</th>\n",
       "    </tr>\n",
       "  </thead>\n",
       "  <tbody>\n",
       "    <tr>\n",
       "      <th>0</th>\n",
       "      <td>118</td>\n",
       "    </tr>\n",
       "    <tr>\n",
       "      <th>1</th>\n",
       "      <td>117</td>\n",
       "    </tr>\n",
       "    <tr>\n",
       "      <th>2</th>\n",
       "      <td>111</td>\n",
       "    </tr>\n",
       "    <tr>\n",
       "      <th>3</th>\n",
       "      <td>93</td>\n",
       "    </tr>\n",
       "    <tr>\n",
       "      <th>4</th>\n",
       "      <td>85</td>\n",
       "    </tr>\n",
       "    <tr>\n",
       "      <th>5</th>\n",
       "      <td>73</td>\n",
       "    </tr>\n",
       "    <tr>\n",
       "      <th>6</th>\n",
       "      <td>61</td>\n",
       "    </tr>\n",
       "    <tr>\n",
       "      <th>7</th>\n",
       "      <td>47</td>\n",
       "    </tr>\n",
       "    <tr>\n",
       "      <th>8</th>\n",
       "      <td>13</td>\n",
       "    </tr>\n",
       "  </tbody>\n",
       "</table>\n",
       "</div>"
      ],
      "text/plain": [
       "  Rating\n",
       "0    118\n",
       "1    117\n",
       "2    111\n",
       "3     93\n",
       "4     85\n",
       "5     73\n",
       "6     61\n",
       "7     47\n",
       "8     13"
      ]
     },
     "execution_count": 31,
     "metadata": {},
     "output_type": "execute_result"
    }
   ],
   "source": [
    "df9=pd.DataFrame(Rating1)\n",
    "df9=df9.rename({0:'Rating'},axis=1)\n",
    "df9"
   ]
  },
  {
   "cell_type": "code",
   "execution_count": 32,
   "metadata": {},
   "outputs": [
    {
     "data": {
      "text/html": [
       "<div>\n",
       "<style scoped>\n",
       "    .dataframe tbody tr th:only-of-type {\n",
       "        vertical-align: middle;\n",
       "    }\n",
       "\n",
       "    .dataframe tbody tr th {\n",
       "        vertical-align: top;\n",
       "    }\n",
       "\n",
       "    .dataframe thead th {\n",
       "        text-align: right;\n",
       "    }\n",
       "</style>\n",
       "<table border=\"1\" class=\"dataframe\">\n",
       "  <thead>\n",
       "    <tr style=\"text-align: right;\">\n",
       "      <th></th>\n",
       "      <th>Matches</th>\n",
       "      <th>Points</th>\n",
       "      <th>Rating</th>\n",
       "    </tr>\n",
       "  </thead>\n",
       "  <tbody>\n",
       "    <tr>\n",
       "      <th>0</th>\n",
       "      <td>24</td>\n",
       "      <td>2,828</td>\n",
       "      <td>118</td>\n",
       "    </tr>\n",
       "    <tr>\n",
       "      <th>1</th>\n",
       "      <td>17</td>\n",
       "      <td>1,993</td>\n",
       "      <td>117</td>\n",
       "    </tr>\n",
       "    <tr>\n",
       "      <th>2</th>\n",
       "      <td>20</td>\n",
       "      <td>2,226</td>\n",
       "      <td>111</td>\n",
       "    </tr>\n",
       "    <tr>\n",
       "      <th>3</th>\n",
       "      <td>21</td>\n",
       "      <td>1,947</td>\n",
       "      <td>93</td>\n",
       "    </tr>\n",
       "    <tr>\n",
       "      <th>4</th>\n",
       "      <td>12</td>\n",
       "      <td>1,025</td>\n",
       "      <td>85</td>\n",
       "    </tr>\n",
       "    <tr>\n",
       "      <th>5</th>\n",
       "      <td>15</td>\n",
       "      <td>1,101</td>\n",
       "      <td>73</td>\n",
       "    </tr>\n",
       "    <tr>\n",
       "      <th>6</th>\n",
       "      <td>5</td>\n",
       "      <td>306</td>\n",
       "      <td>61</td>\n",
       "    </tr>\n",
       "    <tr>\n",
       "      <th>7</th>\n",
       "      <td>11</td>\n",
       "      <td>519</td>\n",
       "      <td>47</td>\n",
       "    </tr>\n",
       "    <tr>\n",
       "      <th>8</th>\n",
       "      <td>2</td>\n",
       "      <td>25</td>\n",
       "      <td>13</td>\n",
       "    </tr>\n",
       "  </tbody>\n",
       "</table>\n",
       "</div>"
      ],
      "text/plain": [
       "  Matches Points Rating\n",
       "0      24  2,828    118\n",
       "1      17  1,993    117\n",
       "2      20  2,226    111\n",
       "3      21  1,947     93\n",
       "4      12  1,025     85\n",
       "5      15  1,101     73\n",
       "6       5    306     61\n",
       "7      11    519     47\n",
       "8       2     25     13"
      ]
     },
     "execution_count": 32,
     "metadata": {},
     "output_type": "execute_result"
    }
   ],
   "source": [
    "ODI=pd.concat([df6,df8,df9],axis=1)\n",
    "ODI"
   ]
  },
  {
   "cell_type": "code",
   "execution_count": 33,
   "metadata": {},
   "outputs": [
    {
     "data": {
      "text/html": [
       "<div>\n",
       "<style scoped>\n",
       "    .dataframe tbody tr th:only-of-type {\n",
       "        vertical-align: middle;\n",
       "    }\n",
       "\n",
       "    .dataframe tbody tr th {\n",
       "        vertical-align: top;\n",
       "    }\n",
       "\n",
       "    .dataframe thead th {\n",
       "        text-align: right;\n",
       "    }\n",
       "</style>\n",
       "<table border=\"1\" class=\"dataframe\">\n",
       "  <thead>\n",
       "    <tr style=\"text-align: right;\">\n",
       "      <th></th>\n",
       "      <th>Matches</th>\n",
       "      <th>Points</th>\n",
       "      <th>Rating</th>\n",
       "    </tr>\n",
       "  </thead>\n",
       "  <tbody>\n",
       "    <tr>\n",
       "      <th>0</th>\n",
       "      <td>18</td>\n",
       "      <td>2,955</td>\n",
       "      <td>164</td>\n",
       "    </tr>\n",
       "    <tr>\n",
       "      <th>1</th>\n",
       "      <td>24</td>\n",
       "      <td>2,828</td>\n",
       "      <td>118</td>\n",
       "    </tr>\n",
       "    <tr>\n",
       "      <th>2</th>\n",
       "      <td>17</td>\n",
       "      <td>1,993</td>\n",
       "      <td>117</td>\n",
       "    </tr>\n",
       "    <tr>\n",
       "      <th>3</th>\n",
       "      <td>20</td>\n",
       "      <td>2,226</td>\n",
       "      <td>111</td>\n",
       "    </tr>\n",
       "    <tr>\n",
       "      <th>4</th>\n",
       "      <td>21</td>\n",
       "      <td>1,947</td>\n",
       "      <td>93</td>\n",
       "    </tr>\n",
       "    <tr>\n",
       "      <th>5</th>\n",
       "      <td>12</td>\n",
       "      <td>1,025</td>\n",
       "      <td>85</td>\n",
       "    </tr>\n",
       "    <tr>\n",
       "      <th>6</th>\n",
       "      <td>15</td>\n",
       "      <td>1,101</td>\n",
       "      <td>73</td>\n",
       "    </tr>\n",
       "    <tr>\n",
       "      <th>7</th>\n",
       "      <td>5</td>\n",
       "      <td>306</td>\n",
       "      <td>61</td>\n",
       "    </tr>\n",
       "    <tr>\n",
       "      <th>8</th>\n",
       "      <td>11</td>\n",
       "      <td>519</td>\n",
       "      <td>47</td>\n",
       "    </tr>\n",
       "    <tr>\n",
       "      <th>9</th>\n",
       "      <td>2</td>\n",
       "      <td>25</td>\n",
       "      <td>13</td>\n",
       "    </tr>\n",
       "  </tbody>\n",
       "</table>\n",
       "</div>"
      ],
      "text/plain": [
       "  Matches Points                           Rating\n",
       "0      18  2,955                              164\n",
       "1      24  2,828                              118\n",
       "2      17  1,993                              117\n",
       "3      20  2,226                              111\n",
       "4      21  1,947                               93\n",
       "5      12  1,025                               85\n",
       "6      15  1,101                               73\n",
       "7       5    306                               61\n",
       "8      11    519                               47\n",
       "9       2     25                               13"
      ]
     },
     "execution_count": 33,
     "metadata": {},
     "output_type": "execute_result"
    }
   ],
   "source": [
    "ODI1=pd.concat([Aus,ODI],axis=0)\n",
    "ODI1.index=range(10)\n",
    "ODI1"
   ]
  },
  {
   "cell_type": "code",
   "execution_count": 34,
   "metadata": {},
   "outputs": [
    {
     "data": {
      "text/html": [
       "<div>\n",
       "<style scoped>\n",
       "    .dataframe tbody tr th:only-of-type {\n",
       "        vertical-align: middle;\n",
       "    }\n",
       "\n",
       "    .dataframe tbody tr th {\n",
       "        vertical-align: top;\n",
       "    }\n",
       "\n",
       "    .dataframe thead th {\n",
       "        text-align: right;\n",
       "    }\n",
       "</style>\n",
       "<table border=\"1\" class=\"dataframe\">\n",
       "  <thead>\n",
       "    <tr style=\"text-align: right;\">\n",
       "      <th></th>\n",
       "      <th>Team</th>\n",
       "      <th>Matches</th>\n",
       "      <th>Points</th>\n",
       "      <th>Rating</th>\n",
       "    </tr>\n",
       "  </thead>\n",
       "  <tbody>\n",
       "    <tr>\n",
       "      <th>0</th>\n",
       "      <td>AUS</td>\n",
       "      <td>18</td>\n",
       "      <td>2,955</td>\n",
       "      <td>164</td>\n",
       "    </tr>\n",
       "    <tr>\n",
       "      <th>1</th>\n",
       "      <td>SA</td>\n",
       "      <td>24</td>\n",
       "      <td>2,828</td>\n",
       "      <td>118</td>\n",
       "    </tr>\n",
       "    <tr>\n",
       "      <th>2</th>\n",
       "      <td>ENG</td>\n",
       "      <td>17</td>\n",
       "      <td>1,993</td>\n",
       "      <td>117</td>\n",
       "    </tr>\n",
       "    <tr>\n",
       "      <th>3</th>\n",
       "      <td>IND</td>\n",
       "      <td>20</td>\n",
       "      <td>2,226</td>\n",
       "      <td>111</td>\n",
       "    </tr>\n",
       "    <tr>\n",
       "      <th>4</th>\n",
       "      <td>NZ</td>\n",
       "      <td>21</td>\n",
       "      <td>1,947</td>\n",
       "      <td>93</td>\n",
       "    </tr>\n",
       "    <tr>\n",
       "      <th>5</th>\n",
       "      <td>WI</td>\n",
       "      <td>12</td>\n",
       "      <td>1,025</td>\n",
       "      <td>85</td>\n",
       "    </tr>\n",
       "    <tr>\n",
       "      <th>6</th>\n",
       "      <td>PAK</td>\n",
       "      <td>15</td>\n",
       "      <td>1,101</td>\n",
       "      <td>73</td>\n",
       "    </tr>\n",
       "    <tr>\n",
       "      <th>7</th>\n",
       "      <td>BAN</td>\n",
       "      <td>5</td>\n",
       "      <td>306</td>\n",
       "      <td>61</td>\n",
       "    </tr>\n",
       "    <tr>\n",
       "      <th>8</th>\n",
       "      <td>SL</td>\n",
       "      <td>11</td>\n",
       "      <td>519</td>\n",
       "      <td>47</td>\n",
       "    </tr>\n",
       "    <tr>\n",
       "      <th>9</th>\n",
       "      <td>IRE</td>\n",
       "      <td>2</td>\n",
       "      <td>25</td>\n",
       "      <td>13</td>\n",
       "    </tr>\n",
       "  </tbody>\n",
       "</table>\n",
       "</div>"
      ],
      "text/plain": [
       "  Team Matches Points                           Rating\n",
       "0  AUS      18  2,955                              164\n",
       "1   SA      24  2,828                              118\n",
       "2  ENG      17  1,993                              117\n",
       "3  IND      20  2,226                              111\n",
       "4   NZ      21  1,947                               93\n",
       "5   WI      12  1,025                               85\n",
       "6  PAK      15  1,101                               73\n",
       "7  BAN       5    306                               61\n",
       "8   SL      11    519                               47\n",
       "9  IRE       2     25                               13"
      ]
     },
     "execution_count": 34,
     "metadata": {},
     "output_type": "execute_result"
    }
   ],
   "source": [
    "Womens_ODI=pd.concat([df,ODI1],axis=1)\n",
    "Womens_ODI"
   ]
  },
  {
   "cell_type": "markdown",
   "metadata": {},
   "source": [
    "# Top 10 women’s ODI players along with the records of their team and rating"
   ]
  },
  {
   "cell_type": "code",
   "execution_count": 35,
   "metadata": {},
   "outputs": [],
   "source": [
    "path=r\"C:\\Users\\Mini\\Downloads\\chromedriver_win32\\chromedriver.exe\""
   ]
  },
  {
   "cell_type": "code",
   "execution_count": 36,
   "metadata": {},
   "outputs": [],
   "source": [
    "driver = webdriver.Chrome(path)\n"
   ]
  },
  {
   "cell_type": "code",
   "execution_count": 37,
   "metadata": {},
   "outputs": [],
   "source": [
    "driver.get('https://www.icc-cricket.com/rankings/womens/player-rankings/odi/batting')"
   ]
  },
  {
   "cell_type": "code",
   "execution_count": 38,
   "metadata": {},
   "outputs": [
    {
     "name": "stdout",
     "output_type": "stream",
     "text": [
      "1\n",
      "1\n",
      "1\n"
     ]
    }
   ],
   "source": [
    "content=driver.page_source\n",
    "soup=BeautifulSoup(content)\n",
    "names=soup.findAll('div',attrs={'class':'rankings-block__banner--name-large'})\n",
    "print(len(names))\n",
    "team=soup.findAll('div',attrs={'class':'rankings-block__banner--nationality'})\n",
    "print(len(team))\n",
    "rating=soup.findAll('div',attrs={'class':'rankings-block__banner--rating'})\n",
    "print(len(rating))"
   ]
  },
  {
   "cell_type": "code",
   "execution_count": 39,
   "metadata": {},
   "outputs": [],
   "source": [
    "Names=[]\n",
    "Names1=[]\n",
    "Team=[]\n",
    "Team1=[]\n",
    "Rating=[]\n",
    "Rating1=[]"
   ]
  },
  {
   "cell_type": "code",
   "execution_count": 40,
   "metadata": {},
   "outputs": [
    {
     "data": {
      "text/plain": [
       "['Tammy Beaumont']"
      ]
     },
     "execution_count": 40,
     "metadata": {},
     "output_type": "execute_result"
    }
   ],
   "source": [
    "for i in names:\n",
    "    Names.append(i.text)\n",
    "Names"
   ]
  },
  {
   "cell_type": "code",
   "execution_count": 41,
   "metadata": {},
   "outputs": [
    {
     "data": {
      "text/html": [
       "<div>\n",
       "<style scoped>\n",
       "    .dataframe tbody tr th:only-of-type {\n",
       "        vertical-align: middle;\n",
       "    }\n",
       "\n",
       "    .dataframe tbody tr th {\n",
       "        vertical-align: top;\n",
       "    }\n",
       "\n",
       "    .dataframe thead th {\n",
       "        text-align: right;\n",
       "    }\n",
       "</style>\n",
       "<table border=\"1\" class=\"dataframe\">\n",
       "  <thead>\n",
       "    <tr style=\"text-align: right;\">\n",
       "      <th></th>\n",
       "      <th>Batsman Name</th>\n",
       "    </tr>\n",
       "  </thead>\n",
       "  <tbody>\n",
       "    <tr>\n",
       "      <th>0</th>\n",
       "      <td>Tammy Beaumont</td>\n",
       "    </tr>\n",
       "  </tbody>\n",
       "</table>\n",
       "</div>"
      ],
      "text/plain": [
       "     Batsman Name\n",
       "0  Tammy Beaumont"
      ]
     },
     "execution_count": 41,
     "metadata": {},
     "output_type": "execute_result"
    }
   ],
   "source": [
    "df10=pd.DataFrame(Names)\n",
    "df11=df10.rename({0:'Batsman Name'},axis=1)\n",
    "df11"
   ]
  },
  {
   "cell_type": "code",
   "execution_count": 42,
   "metadata": {},
   "outputs": [
    {
     "data": {
      "text/plain": [
       "['\\n\\nENG\\n                    ']"
      ]
     },
     "execution_count": 42,
     "metadata": {},
     "output_type": "execute_result"
    }
   ],
   "source": [
    "for i in team:\n",
    "    Team.append(i.text)\n",
    "Team"
   ]
  },
  {
   "cell_type": "code",
   "execution_count": 43,
   "metadata": {},
   "outputs": [
    {
     "data": {
      "text/html": [
       "<div>\n",
       "<style scoped>\n",
       "    .dataframe tbody tr th:only-of-type {\n",
       "        vertical-align: middle;\n",
       "    }\n",
       "\n",
       "    .dataframe tbody tr th {\n",
       "        vertical-align: top;\n",
       "    }\n",
       "\n",
       "    .dataframe thead th {\n",
       "        text-align: right;\n",
       "    }\n",
       "</style>\n",
       "<table border=\"1\" class=\"dataframe\">\n",
       "  <thead>\n",
       "    <tr style=\"text-align: right;\">\n",
       "      <th></th>\n",
       "      <th>Team</th>\n",
       "    </tr>\n",
       "  </thead>\n",
       "  <tbody>\n",
       "    <tr>\n",
       "      <th>0</th>\n",
       "      <td>ENG</td>\n",
       "    </tr>\n",
       "  </tbody>\n",
       "</table>\n",
       "</div>"
      ],
      "text/plain": [
       "                         Team\n",
       "0    ENG                     "
      ]
     },
     "execution_count": 43,
     "metadata": {},
     "output_type": "execute_result"
    }
   ],
   "source": [
    "df12=pd.DataFrame(Team)\n",
    "df12[0] =df12[0].str.replace('\\n',' ')\n",
    "df12=df12.rename({0:'Team'},axis=1)\n",
    "df12"
   ]
  },
  {
   "cell_type": "code",
   "execution_count": 44,
   "metadata": {},
   "outputs": [
    {
     "data": {
      "text/plain": [
       "['765']"
      ]
     },
     "execution_count": 44,
     "metadata": {},
     "output_type": "execute_result"
    }
   ],
   "source": [
    "for i in rating:\n",
    "    Rating.append(i.text)\n",
    "Rating"
   ]
  },
  {
   "cell_type": "code",
   "execution_count": 45,
   "metadata": {},
   "outputs": [
    {
     "data": {
      "text/html": [
       "<div>\n",
       "<style scoped>\n",
       "    .dataframe tbody tr th:only-of-type {\n",
       "        vertical-align: middle;\n",
       "    }\n",
       "\n",
       "    .dataframe tbody tr th {\n",
       "        vertical-align: top;\n",
       "    }\n",
       "\n",
       "    .dataframe thead th {\n",
       "        text-align: right;\n",
       "    }\n",
       "</style>\n",
       "<table border=\"1\" class=\"dataframe\">\n",
       "  <thead>\n",
       "    <tr style=\"text-align: right;\">\n",
       "      <th></th>\n",
       "      <th>Rating</th>\n",
       "    </tr>\n",
       "  </thead>\n",
       "  <tbody>\n",
       "    <tr>\n",
       "      <th>0</th>\n",
       "      <td>765</td>\n",
       "    </tr>\n",
       "  </tbody>\n",
       "</table>\n",
       "</div>"
      ],
      "text/plain": [
       "  Rating\n",
       "0    765"
      ]
     },
     "execution_count": 45,
     "metadata": {},
     "output_type": "execute_result"
    }
   ],
   "source": [
    "df13=pd.DataFrame(Rating)\n",
    "df13=df13.rename({0:'Rating'},axis=1)\n",
    "df13"
   ]
  },
  {
   "cell_type": "code",
   "execution_count": 46,
   "metadata": {},
   "outputs": [
    {
     "data": {
      "text/html": [
       "<div>\n",
       "<style scoped>\n",
       "    .dataframe tbody tr th:only-of-type {\n",
       "        vertical-align: middle;\n",
       "    }\n",
       "\n",
       "    .dataframe tbody tr th {\n",
       "        vertical-align: top;\n",
       "    }\n",
       "\n",
       "    .dataframe thead th {\n",
       "        text-align: right;\n",
       "    }\n",
       "</style>\n",
       "<table border=\"1\" class=\"dataframe\">\n",
       "  <thead>\n",
       "    <tr style=\"text-align: right;\">\n",
       "      <th></th>\n",
       "      <th>Batsman Name</th>\n",
       "      <th>Team</th>\n",
       "      <th>Rating</th>\n",
       "    </tr>\n",
       "  </thead>\n",
       "  <tbody>\n",
       "    <tr>\n",
       "      <th>0</th>\n",
       "      <td>Tammy Beaumont</td>\n",
       "      <td>ENG</td>\n",
       "      <td>765</td>\n",
       "    </tr>\n",
       "  </tbody>\n",
       "</table>\n",
       "</div>"
      ],
      "text/plain": [
       "     Batsman Name                        Team Rating\n",
       "0  Tammy Beaumont    ENG                         765"
      ]
     },
     "execution_count": 46,
     "metadata": {},
     "output_type": "execute_result"
    }
   ],
   "source": [
    "player=pd.concat([df11,df12,df13],axis=1)\n",
    "player"
   ]
  },
  {
   "cell_type": "code",
   "execution_count": 47,
   "metadata": {},
   "outputs": [
    {
     "name": "stdout",
     "output_type": "stream",
     "text": [
      "99\n",
      "99\n",
      "99\n"
     ]
    }
   ],
   "source": [
    "names1=soup.findAll('td',attrs={'class':'table-body__cell rankings-table__name name'})\n",
    "print(len(names1))\n",
    "team1=soup.findAll('td',attrs={'class':'table-body__cell nationality-logo rankings-table__team'})\n",
    "print(len(team1))\n",
    "rating1=soup.findAll('td',attrs={'table-body__cell rating'})\n",
    "print(len(rating1))"
   ]
  },
  {
   "cell_type": "code",
   "execution_count": 48,
   "metadata": {},
   "outputs": [
    {
     "data": {
      "text/plain": [
       "['\\nLizelle Lee\\n',\n",
       " '\\nAlyssa Healy\\n',\n",
       " '\\nStafanie Taylor\\n',\n",
       " '\\nMeg Lanning\\n',\n",
       " '\\nAmy Satterthwaite\\n',\n",
       " '\\nSmriti Mandhana\\n',\n",
       " '\\nMithali Raj\\n',\n",
       " '\\nNatalie Sciver\\n',\n",
       " '\\nLaura Wolvaardt\\n',\n",
       " '\\nEllyse Perry\\n',\n",
       " '\\nChamari Athapaththu\\n',\n",
       " '\\nHeather Knight\\n',\n",
       " '\\nRachael Haynes\\n',\n",
       " '\\nHarmanpreet Kaur\\n',\n",
       " '\\nMignon du Preez\\n',\n",
       " '\\nBeth Mooney\\n',\n",
       " '\\nPoonam Raut\\n',\n",
       " '\\nSuzie Bates\\n',\n",
       " '\\nSophie Devine\\n',\n",
       " '\\nDeepti Sharma\\n',\n",
       " '\\nMarizanne Kapp\\n',\n",
       " '\\nNahida Khan\\n',\n",
       " '\\nAmy Jones\\n',\n",
       " '\\nJaveria Khan\\n',\n",
       " '\\nBismah Maroof\\n',\n",
       " '\\nDane van Niekerk\\n',\n",
       " '\\nHayley Matthews\\n',\n",
       " '\\nNicole Bolton\\n',\n",
       " '\\nFargana Hoque\\n',\n",
       " '\\nAshleigh Gardner\\n',\n",
       " '\\nRumana Ahmed\\n',\n",
       " '\\nChloe-Lesleigh Tryon\\n',\n",
       " '\\nKatie Perkins\\n',\n",
       " '\\nAliya Riaz\\n',\n",
       " '\\nDanielle Wyatt\\n',\n",
       " '\\nSune Luus\\n',\n",
       " '\\nAmelia Kerr\\n',\n",
       " '\\nJess Jonassen\\n',\n",
       " '\\nKatherine Brunt\\n',\n",
       " '\\nNida Dar\\n',\n",
       " '\\nTrisha Chetty\\n',\n",
       " '\\nKatey Martin\\n',\n",
       " '\\nHarshitha Madavi\\n',\n",
       " '\\nBrooke Halliday\\n',\n",
       " '\\nFran Wilson\\n',\n",
       " '\\nJemimah Rodriques\\n',\n",
       " '\\nShikha Pandey\\n',\n",
       " '\\nMaddie Green\\n',\n",
       " '\\nShemaine Campbelle\\n',\n",
       " '\\nDilani Manodara\\n',\n",
       " '\\nNigar Sultana\\n',\n",
       " '\\nUmaima Sohail\\n',\n",
       " '\\nPriya Punia\\n',\n",
       " '\\nLara Goodall\\n',\n",
       " '\\nLauren Winfield\\n',\n",
       " '\\nJhulan Goswami\\n',\n",
       " '\\nChedean Nation\\n',\n",
       " '\\nRachel Priest\\n',\n",
       " '\\nKyshona Knight\\n',\n",
       " '\\nKycia Knight\\n',\n",
       " '\\nLauren Down\\n',\n",
       " '\\nSidra Ameen\\n',\n",
       " '\\nNilakshi Silva\\n',\n",
       " '\\nNicola Carey\\n',\n",
       " '\\nHayley Jensen\\n',\n",
       " '\\nSheneta Grimmond\\n',\n",
       " '\\nSalma Khatun\\n',\n",
       " '\\nTaniya Bhatia\\n',\n",
       " '\\nGeorgia Wareham\\n',\n",
       " '\\nPoonam Yadav\\n',\n",
       " '\\nAnne Bosch\\n',\n",
       " '\\nAndrie Steyn\\n',\n",
       " '\\nAvanthika Mendis\\n',\n",
       " '\\nAnya Shrubsole\\n',\n",
       " '\\nNatasha McLean\\n',\n",
       " '\\nSharmin Supta\\n',\n",
       " '\\nRajeshwari Gayakwad\\n',\n",
       " '\\nLeigh Kasperek\\n',\n",
       " '\\nAnushka Sanjeewani\\n',\n",
       " '\\nKate Cross\\n',\n",
       " '\\nInoka Ranaweera\\n',\n",
       " '\\nLea Tahuhu\\n',\n",
       " '\\nStacy-Ann King\\n',\n",
       " '\\nMegan Schutt\\n',\n",
       " '\\nOshadi Ranasinghe\\n',\n",
       " '\\nNashra Sandhu\\n',\n",
       " '\\nSushma Verma\\n',\n",
       " '\\nChinelle Henry\\n',\n",
       " '\\nShamilia Connell\\n',\n",
       " '\\nSanjida Islam\\n',\n",
       " '\\nJess Kerr\\n',\n",
       " '\\nHannah Rowe\\n',\n",
       " '\\nShabnim Ismail\\n',\n",
       " '\\nAfy Fletcher\\n',\n",
       " '\\nSophie Ecclestone\\n',\n",
       " '\\nDiana Baig\\n',\n",
       " '\\nSidra Nawaz\\n',\n",
       " '\\nPanna Ghosh\\n',\n",
       " '\\nAma Kanchana\\n']"
      ]
     },
     "execution_count": 48,
     "metadata": {},
     "output_type": "execute_result"
    }
   ],
   "source": [
    "for i in names1:\n",
    "    Names1.append(i.text)\n",
    "Names1"
   ]
  },
  {
   "cell_type": "code",
   "execution_count": 49,
   "metadata": {},
   "outputs": [
    {
     "data": {
      "text/html": [
       "<div>\n",
       "<style scoped>\n",
       "    .dataframe tbody tr th:only-of-type {\n",
       "        vertical-align: middle;\n",
       "    }\n",
       "\n",
       "    .dataframe tbody tr th {\n",
       "        vertical-align: top;\n",
       "    }\n",
       "\n",
       "    .dataframe thead th {\n",
       "        text-align: right;\n",
       "    }\n",
       "</style>\n",
       "<table border=\"1\" class=\"dataframe\">\n",
       "  <thead>\n",
       "    <tr style=\"text-align: right;\">\n",
       "      <th></th>\n",
       "      <th>Batsman Name</th>\n",
       "    </tr>\n",
       "  </thead>\n",
       "  <tbody>\n",
       "    <tr>\n",
       "      <th>0</th>\n",
       "      <td>Lizelle Lee</td>\n",
       "    </tr>\n",
       "    <tr>\n",
       "      <th>1</th>\n",
       "      <td>Alyssa Healy</td>\n",
       "    </tr>\n",
       "    <tr>\n",
       "      <th>2</th>\n",
       "      <td>Stafanie Taylor</td>\n",
       "    </tr>\n",
       "    <tr>\n",
       "      <th>3</th>\n",
       "      <td>Meg Lanning</td>\n",
       "    </tr>\n",
       "    <tr>\n",
       "      <th>4</th>\n",
       "      <td>Amy Satterthwaite</td>\n",
       "    </tr>\n",
       "    <tr>\n",
       "      <th>5</th>\n",
       "      <td>Smriti Mandhana</td>\n",
       "    </tr>\n",
       "    <tr>\n",
       "      <th>6</th>\n",
       "      <td>Mithali Raj</td>\n",
       "    </tr>\n",
       "    <tr>\n",
       "      <th>7</th>\n",
       "      <td>Natalie Sciver</td>\n",
       "    </tr>\n",
       "    <tr>\n",
       "      <th>8</th>\n",
       "      <td>Laura Wolvaardt</td>\n",
       "    </tr>\n",
       "  </tbody>\n",
       "</table>\n",
       "</div>"
      ],
      "text/plain": [
       "          Batsman Name\n",
       "0         Lizelle Lee \n",
       "1        Alyssa Healy \n",
       "2     Stafanie Taylor \n",
       "3         Meg Lanning \n",
       "4   Amy Satterthwaite \n",
       "5     Smriti Mandhana \n",
       "6         Mithali Raj \n",
       "7      Natalie Sciver \n",
       "8     Laura Wolvaardt "
      ]
     },
     "execution_count": 49,
     "metadata": {},
     "output_type": "execute_result"
    }
   ],
   "source": [
    "df14=pd.DataFrame(Names1)\n",
    "df14[0] =df14[0].str.replace('\\n',' ')\n",
    "df14=df14.rename({0:'Batsman Name'},axis=1)\n",
    "df14=df14.iloc[0:9]\n",
    "df14"
   ]
  },
  {
   "cell_type": "code",
   "execution_count": 50,
   "metadata": {},
   "outputs": [],
   "source": [
    "for i in team1:\n",
    "    Team1.append(i.text)"
   ]
  },
  {
   "cell_type": "code",
   "execution_count": 51,
   "metadata": {},
   "outputs": [
    {
     "data": {
      "text/plain": [
       "['\\n\\nSA\\n',\n",
       " '\\n\\nAUS\\n',\n",
       " '\\n\\nWI\\n',\n",
       " '\\n\\nAUS\\n',\n",
       " '\\n\\nNZ\\n',\n",
       " '\\n\\nIND\\n',\n",
       " '\\n\\nIND\\n',\n",
       " '\\n\\nENG\\n',\n",
       " '\\n\\nSA\\n',\n",
       " '\\n\\nAUS\\n',\n",
       " '\\n\\nSL\\n',\n",
       " '\\n\\nENG\\n',\n",
       " '\\n\\nAUS\\n',\n",
       " '\\n\\nIND\\n',\n",
       " '\\n\\nSA\\n',\n",
       " '\\n\\nAUS\\n',\n",
       " '\\n\\nIND\\n',\n",
       " '\\n\\nNZ\\n',\n",
       " '\\n\\nNZ\\n',\n",
       " '\\n\\nIND\\n',\n",
       " '\\n\\nSA\\n',\n",
       " '\\n\\nPAK\\n',\n",
       " '\\n\\nENG\\n',\n",
       " '\\n\\nPAK\\n',\n",
       " '\\n\\nPAK\\n',\n",
       " '\\n\\nSA\\n',\n",
       " '\\n\\nWI\\n',\n",
       " '\\n\\nAUS\\n',\n",
       " '\\n\\nBAN\\n',\n",
       " '\\n\\nAUS\\n',\n",
       " '\\n\\nBAN\\n',\n",
       " '\\n\\nSA\\n',\n",
       " '\\n\\nNZ\\n',\n",
       " '\\n\\nPAK\\n',\n",
       " '\\n\\nENG\\n',\n",
       " '\\n\\nSA\\n',\n",
       " '\\n\\nNZ\\n',\n",
       " '\\n\\nAUS\\n',\n",
       " '\\n\\nENG\\n',\n",
       " '\\n\\nPAK\\n',\n",
       " '\\n\\nSA\\n',\n",
       " '\\n\\nNZ\\n',\n",
       " '\\n\\nSL\\n',\n",
       " '\\n\\nNZ\\n',\n",
       " '\\n\\nENG\\n',\n",
       " '\\n\\nIND\\n',\n",
       " '\\n\\nIND\\n',\n",
       " '\\n\\nNZ\\n',\n",
       " '\\n\\nWI\\n',\n",
       " '\\n\\nSL\\n',\n",
       " '\\n\\nBAN\\n',\n",
       " '\\n\\nPAK\\n',\n",
       " '\\n\\nIND\\n',\n",
       " '\\n\\nSA\\n',\n",
       " '\\n\\nENG\\n',\n",
       " '\\n\\nIND\\n',\n",
       " '\\n\\nWI\\n',\n",
       " '\\n\\nNZ\\n',\n",
       " '\\n\\nWI\\n',\n",
       " '\\n\\nWI\\n',\n",
       " '\\n\\nNZ\\n',\n",
       " '\\n\\nPAK\\n',\n",
       " '\\n\\nSL\\n',\n",
       " '\\n\\nAUS\\n',\n",
       " '\\n\\nNZ\\n',\n",
       " '\\n\\nWI\\n',\n",
       " '\\n\\nBAN\\n',\n",
       " '\\n\\nIND\\n',\n",
       " '\\n\\nAUS\\n',\n",
       " '\\n\\nIND\\n',\n",
       " '\\n\\nSA\\n',\n",
       " '\\n\\nSA\\n',\n",
       " '\\n\\nSL\\n',\n",
       " '\\n\\nENG\\n',\n",
       " '\\n\\nWI\\n',\n",
       " '\\n\\nBAN\\n',\n",
       " '\\n\\nIND\\n',\n",
       " '\\n\\nNZ\\n',\n",
       " '\\n\\nSL\\n',\n",
       " '\\n\\nENG\\n',\n",
       " '\\n\\nSL\\n',\n",
       " '\\n\\nNZ\\n',\n",
       " '\\n\\nWI\\n',\n",
       " '\\n\\nAUS\\n',\n",
       " '\\n\\nSL\\n',\n",
       " '\\n\\nPAK\\n',\n",
       " '\\n\\nIND\\n',\n",
       " '\\n\\nWI\\n',\n",
       " '\\n\\nWI\\n',\n",
       " '\\n\\nBAN\\n',\n",
       " '\\n\\nNZ\\n',\n",
       " '\\n\\nNZ\\n',\n",
       " '\\n\\nSA\\n',\n",
       " '\\n\\nWI\\n',\n",
       " '\\n\\nENG\\n',\n",
       " '\\n\\nPAK\\n',\n",
       " '\\n\\nPAK\\n',\n",
       " '\\n\\nBAN\\n',\n",
       " '\\n\\nSL\\n']"
      ]
     },
     "execution_count": 51,
     "metadata": {},
     "output_type": "execute_result"
    }
   ],
   "source": [
    "Team1"
   ]
  },
  {
   "cell_type": "code",
   "execution_count": 52,
   "metadata": {},
   "outputs": [
    {
     "data": {
      "text/html": [
       "<div>\n",
       "<style scoped>\n",
       "    .dataframe tbody tr th:only-of-type {\n",
       "        vertical-align: middle;\n",
       "    }\n",
       "\n",
       "    .dataframe tbody tr th {\n",
       "        vertical-align: top;\n",
       "    }\n",
       "\n",
       "    .dataframe thead th {\n",
       "        text-align: right;\n",
       "    }\n",
       "</style>\n",
       "<table border=\"1\" class=\"dataframe\">\n",
       "  <thead>\n",
       "    <tr style=\"text-align: right;\">\n",
       "      <th></th>\n",
       "      <th>Team</th>\n",
       "    </tr>\n",
       "  </thead>\n",
       "  <tbody>\n",
       "    <tr>\n",
       "      <th>0</th>\n",
       "      <td>SA</td>\n",
       "    </tr>\n",
       "    <tr>\n",
       "      <th>1</th>\n",
       "      <td>AUS</td>\n",
       "    </tr>\n",
       "    <tr>\n",
       "      <th>2</th>\n",
       "      <td>WI</td>\n",
       "    </tr>\n",
       "    <tr>\n",
       "      <th>3</th>\n",
       "      <td>AUS</td>\n",
       "    </tr>\n",
       "    <tr>\n",
       "      <th>4</th>\n",
       "      <td>NZ</td>\n",
       "    </tr>\n",
       "    <tr>\n",
       "      <th>5</th>\n",
       "      <td>IND</td>\n",
       "    </tr>\n",
       "    <tr>\n",
       "      <th>6</th>\n",
       "      <td>IND</td>\n",
       "    </tr>\n",
       "    <tr>\n",
       "      <th>7</th>\n",
       "      <td>ENG</td>\n",
       "    </tr>\n",
       "    <tr>\n",
       "      <th>8</th>\n",
       "      <td>SA</td>\n",
       "    </tr>\n",
       "  </tbody>\n",
       "</table>\n",
       "</div>"
      ],
      "text/plain": [
       "     Team\n",
       "0     SA \n",
       "1    AUS \n",
       "2     WI \n",
       "3    AUS \n",
       "4     NZ \n",
       "5    IND \n",
       "6    IND \n",
       "7    ENG \n",
       "8     SA "
      ]
     },
     "execution_count": 52,
     "metadata": {},
     "output_type": "execute_result"
    }
   ],
   "source": [
    "df15=pd.DataFrame(Team1)\n",
    "df15[0] =df15[0].str.replace('\\n',' ')\n",
    "df15=df15.rename({0:'Team'},axis=1)\n",
    "df15=df15.iloc[0:9]\n",
    "df15"
   ]
  },
  {
   "cell_type": "code",
   "execution_count": 53,
   "metadata": {},
   "outputs": [
    {
     "data": {
      "text/plain": [
       "['758',\n",
       " '756',\n",
       " '746',\n",
       " '723',\n",
       " '715',\n",
       " '710',\n",
       " '709',\n",
       " '685',\n",
       " '683',\n",
       " '679',\n",
       " '667',\n",
       " '666',\n",
       " '657',\n",
       " '636',\n",
       " '620',\n",
       " '600',\n",
       " '593',\n",
       " '577',\n",
       " '573',\n",
       " '568',\n",
       " '560',\n",
       " '560',\n",
       " '536',\n",
       " '536',\n",
       " '520',\n",
       " '498',\n",
       " '461',\n",
       " '456',\n",
       " '445',\n",
       " '440',\n",
       " '437',\n",
       " '437',\n",
       " '413',\n",
       " '410',\n",
       " '404',\n",
       " '398',\n",
       " '396',\n",
       " '380',\n",
       " '361',\n",
       " '360',\n",
       " '359',\n",
       " '357',\n",
       " '353',\n",
       " '350',\n",
       " '341',\n",
       " '337',\n",
       " '335',\n",
       " '320',\n",
       " '319',\n",
       " '319',\n",
       " '317',\n",
       " '310',\n",
       " '305',\n",
       " '305',\n",
       " '302',\n",
       " '294',\n",
       " '292',\n",
       " '285',\n",
       " '281',\n",
       " '276',\n",
       " '264',\n",
       " '264',\n",
       " '261',\n",
       " '259',\n",
       " '256',\n",
       " '252',\n",
       " '244',\n",
       " '240',\n",
       " '239',\n",
       " '236',\n",
       " '234',\n",
       " '234',\n",
       " '226',\n",
       " '225',\n",
       " '224',\n",
       " '221',\n",
       " '220',\n",
       " '219',\n",
       " '211',\n",
       " '208',\n",
       " '205',\n",
       " '204',\n",
       " '201',\n",
       " '195',\n",
       " '195',\n",
       " '192',\n",
       " '190',\n",
       " '188',\n",
       " '186',\n",
       " '181',\n",
       " '179',\n",
       " '179',\n",
       " '178',\n",
       " '175',\n",
       " '172',\n",
       " '170',\n",
       " '168',\n",
       " '166',\n",
       " '161']"
      ]
     },
     "execution_count": 53,
     "metadata": {},
     "output_type": "execute_result"
    }
   ],
   "source": [
    "for i in rating1:\n",
    "    Rating1.append(i.text)\n",
    "Rating1"
   ]
  },
  {
   "cell_type": "code",
   "execution_count": 54,
   "metadata": {},
   "outputs": [
    {
     "data": {
      "text/html": [
       "<div>\n",
       "<style scoped>\n",
       "    .dataframe tbody tr th:only-of-type {\n",
       "        vertical-align: middle;\n",
       "    }\n",
       "\n",
       "    .dataframe tbody tr th {\n",
       "        vertical-align: top;\n",
       "    }\n",
       "\n",
       "    .dataframe thead th {\n",
       "        text-align: right;\n",
       "    }\n",
       "</style>\n",
       "<table border=\"1\" class=\"dataframe\">\n",
       "  <thead>\n",
       "    <tr style=\"text-align: right;\">\n",
       "      <th></th>\n",
       "      <th>Rating</th>\n",
       "    </tr>\n",
       "  </thead>\n",
       "  <tbody>\n",
       "    <tr>\n",
       "      <th>0</th>\n",
       "      <td>758</td>\n",
       "    </tr>\n",
       "    <tr>\n",
       "      <th>1</th>\n",
       "      <td>756</td>\n",
       "    </tr>\n",
       "    <tr>\n",
       "      <th>2</th>\n",
       "      <td>746</td>\n",
       "    </tr>\n",
       "    <tr>\n",
       "      <th>3</th>\n",
       "      <td>723</td>\n",
       "    </tr>\n",
       "    <tr>\n",
       "      <th>4</th>\n",
       "      <td>715</td>\n",
       "    </tr>\n",
       "    <tr>\n",
       "      <th>5</th>\n",
       "      <td>710</td>\n",
       "    </tr>\n",
       "    <tr>\n",
       "      <th>6</th>\n",
       "      <td>709</td>\n",
       "    </tr>\n",
       "    <tr>\n",
       "      <th>7</th>\n",
       "      <td>685</td>\n",
       "    </tr>\n",
       "    <tr>\n",
       "      <th>8</th>\n",
       "      <td>683</td>\n",
       "    </tr>\n",
       "  </tbody>\n",
       "</table>\n",
       "</div>"
      ],
      "text/plain": [
       "  Rating\n",
       "0    758\n",
       "1    756\n",
       "2    746\n",
       "3    723\n",
       "4    715\n",
       "5    710\n",
       "6    709\n",
       "7    685\n",
       "8    683"
      ]
     },
     "execution_count": 54,
     "metadata": {},
     "output_type": "execute_result"
    }
   ],
   "source": [
    "df16=pd.DataFrame(Rating1)\n",
    "df16=df16.rename({0:'Rating'},axis=1)\n",
    "df16=df16.iloc[0:9]\n",
    "df16"
   ]
  },
  {
   "cell_type": "code",
   "execution_count": 55,
   "metadata": {},
   "outputs": [
    {
     "data": {
      "text/html": [
       "<div>\n",
       "<style scoped>\n",
       "    .dataframe tbody tr th:only-of-type {\n",
       "        vertical-align: middle;\n",
       "    }\n",
       "\n",
       "    .dataframe tbody tr th {\n",
       "        vertical-align: top;\n",
       "    }\n",
       "\n",
       "    .dataframe thead th {\n",
       "        text-align: right;\n",
       "    }\n",
       "</style>\n",
       "<table border=\"1\" class=\"dataframe\">\n",
       "  <thead>\n",
       "    <tr style=\"text-align: right;\">\n",
       "      <th></th>\n",
       "      <th>Batsman Name</th>\n",
       "      <th>Team</th>\n",
       "      <th>Rating</th>\n",
       "    </tr>\n",
       "  </thead>\n",
       "  <tbody>\n",
       "    <tr>\n",
       "      <th>0</th>\n",
       "      <td>Lizelle Lee</td>\n",
       "      <td>SA</td>\n",
       "      <td>758</td>\n",
       "    </tr>\n",
       "    <tr>\n",
       "      <th>1</th>\n",
       "      <td>Alyssa Healy</td>\n",
       "      <td>AUS</td>\n",
       "      <td>756</td>\n",
       "    </tr>\n",
       "    <tr>\n",
       "      <th>2</th>\n",
       "      <td>Stafanie Taylor</td>\n",
       "      <td>WI</td>\n",
       "      <td>746</td>\n",
       "    </tr>\n",
       "    <tr>\n",
       "      <th>3</th>\n",
       "      <td>Meg Lanning</td>\n",
       "      <td>AUS</td>\n",
       "      <td>723</td>\n",
       "    </tr>\n",
       "    <tr>\n",
       "      <th>4</th>\n",
       "      <td>Amy Satterthwaite</td>\n",
       "      <td>NZ</td>\n",
       "      <td>715</td>\n",
       "    </tr>\n",
       "    <tr>\n",
       "      <th>5</th>\n",
       "      <td>Smriti Mandhana</td>\n",
       "      <td>IND</td>\n",
       "      <td>710</td>\n",
       "    </tr>\n",
       "    <tr>\n",
       "      <th>6</th>\n",
       "      <td>Mithali Raj</td>\n",
       "      <td>IND</td>\n",
       "      <td>709</td>\n",
       "    </tr>\n",
       "    <tr>\n",
       "      <th>7</th>\n",
       "      <td>Natalie Sciver</td>\n",
       "      <td>ENG</td>\n",
       "      <td>685</td>\n",
       "    </tr>\n",
       "    <tr>\n",
       "      <th>8</th>\n",
       "      <td>Laura Wolvaardt</td>\n",
       "      <td>SA</td>\n",
       "      <td>683</td>\n",
       "    </tr>\n",
       "  </tbody>\n",
       "</table>\n",
       "</div>"
      ],
      "text/plain": [
       "          Batsman Name    Team Rating\n",
       "0         Lizelle Lee      SA     758\n",
       "1        Alyssa Healy     AUS     756\n",
       "2     Stafanie Taylor      WI     746\n",
       "3         Meg Lanning     AUS     723\n",
       "4   Amy Satterthwaite      NZ     715\n",
       "5     Smriti Mandhana     IND     710\n",
       "6         Mithali Raj     IND     709\n",
       "7      Natalie Sciver     ENG     685\n",
       "8     Laura Wolvaardt      SA     683"
      ]
     },
     "execution_count": 55,
     "metadata": {},
     "output_type": "execute_result"
    }
   ],
   "source": [
    "player1=pd.concat([df14,df15,df16],axis=1)\n",
    "player1"
   ]
  },
  {
   "cell_type": "code",
   "execution_count": 56,
   "metadata": {},
   "outputs": [
    {
     "data": {
      "text/html": [
       "<div>\n",
       "<style scoped>\n",
       "    .dataframe tbody tr th:only-of-type {\n",
       "        vertical-align: middle;\n",
       "    }\n",
       "\n",
       "    .dataframe tbody tr th {\n",
       "        vertical-align: top;\n",
       "    }\n",
       "\n",
       "    .dataframe thead th {\n",
       "        text-align: right;\n",
       "    }\n",
       "</style>\n",
       "<table border=\"1\" class=\"dataframe\">\n",
       "  <thead>\n",
       "    <tr style=\"text-align: right;\">\n",
       "      <th></th>\n",
       "      <th>Batsman Name</th>\n",
       "      <th>Team</th>\n",
       "      <th>Rating</th>\n",
       "    </tr>\n",
       "  </thead>\n",
       "  <tbody>\n",
       "    <tr>\n",
       "      <th>0</th>\n",
       "      <td>Tammy Beaumont</td>\n",
       "      <td>ENG</td>\n",
       "      <td>765</td>\n",
       "    </tr>\n",
       "    <tr>\n",
       "      <th>1</th>\n",
       "      <td>Lizelle Lee</td>\n",
       "      <td>SA</td>\n",
       "      <td>758</td>\n",
       "    </tr>\n",
       "    <tr>\n",
       "      <th>2</th>\n",
       "      <td>Alyssa Healy</td>\n",
       "      <td>AUS</td>\n",
       "      <td>756</td>\n",
       "    </tr>\n",
       "    <tr>\n",
       "      <th>3</th>\n",
       "      <td>Stafanie Taylor</td>\n",
       "      <td>WI</td>\n",
       "      <td>746</td>\n",
       "    </tr>\n",
       "    <tr>\n",
       "      <th>4</th>\n",
       "      <td>Meg Lanning</td>\n",
       "      <td>AUS</td>\n",
       "      <td>723</td>\n",
       "    </tr>\n",
       "    <tr>\n",
       "      <th>5</th>\n",
       "      <td>Amy Satterthwaite</td>\n",
       "      <td>NZ</td>\n",
       "      <td>715</td>\n",
       "    </tr>\n",
       "    <tr>\n",
       "      <th>6</th>\n",
       "      <td>Smriti Mandhana</td>\n",
       "      <td>IND</td>\n",
       "      <td>710</td>\n",
       "    </tr>\n",
       "    <tr>\n",
       "      <th>7</th>\n",
       "      <td>Mithali Raj</td>\n",
       "      <td>IND</td>\n",
       "      <td>709</td>\n",
       "    </tr>\n",
       "    <tr>\n",
       "      <th>8</th>\n",
       "      <td>Natalie Sciver</td>\n",
       "      <td>ENG</td>\n",
       "      <td>685</td>\n",
       "    </tr>\n",
       "    <tr>\n",
       "      <th>9</th>\n",
       "      <td>Laura Wolvaardt</td>\n",
       "      <td>SA</td>\n",
       "      <td>683</td>\n",
       "    </tr>\n",
       "  </tbody>\n",
       "</table>\n",
       "</div>"
      ],
      "text/plain": [
       "          Batsman Name                        Team Rating\n",
       "0       Tammy Beaumont    ENG                         765\n",
       "1         Lizelle Lee                          SA     758\n",
       "2        Alyssa Healy                         AUS     756\n",
       "3     Stafanie Taylor                          WI     746\n",
       "4         Meg Lanning                         AUS     723\n",
       "5   Amy Satterthwaite                          NZ     715\n",
       "6     Smriti Mandhana                         IND     710\n",
       "7         Mithali Raj                         IND     709\n",
       "8      Natalie Sciver                         ENG     685\n",
       "9     Laura Wolvaardt                          SA     683"
      ]
     },
     "execution_count": 56,
     "metadata": {},
     "output_type": "execute_result"
    }
   ],
   "source": [
    "ODI_Batsmen=pd.concat([player,player1],axis=0)\n",
    "ODI_Batsmen.index=range(10)\n",
    "ODI_Batsmen"
   ]
  },
  {
   "cell_type": "markdown",
   "metadata": {},
   "source": [
    "# Top 10 women’s ODI all-rounder along with the records of their team and rating"
   ]
  },
  {
   "cell_type": "code",
   "execution_count": 57,
   "metadata": {},
   "outputs": [],
   "source": [
    "path=r\"C:\\Users\\Mini\\Downloads\\chromedriver_win32\\chromedriver.exe\""
   ]
  },
  {
   "cell_type": "code",
   "execution_count": 58,
   "metadata": {},
   "outputs": [],
   "source": [
    "driver = webdriver.Chrome(path)"
   ]
  },
  {
   "cell_type": "code",
   "execution_count": 59,
   "metadata": {},
   "outputs": [],
   "source": [
    "driver.get('https://www.icc-cricket.com/rankings/womens/player-rankings/odi/all-rounder')\n"
   ]
  },
  {
   "cell_type": "code",
   "execution_count": null,
   "metadata": {},
   "outputs": [],
   "source": [
    "content=driver.page_source\n",
    "soup=BeautifulSoup(content)\n",
    "names=soup.findAll('div',attrs={'class':'rankings-block__banner--name-large'})\n",
    "print(len(names))\n",
    "team=soup.findAll('div',attrs={'class':'rankings-block__banner--nationality'})\n",
    "print(len(team))\n",
    "rating=soup.findAll('div',attrs={'class':'rankings-block__banner--rating'})\n",
    "print(len(rating))"
   ]
  },
  {
   "cell_type": "code",
   "execution_count": 61,
   "metadata": {},
   "outputs": [],
   "source": [
    "Names=[]\n",
    "Names1=[]\n",
    "Team=[]\n",
    "Team=[]\n",
    "Rating=[]\n",
    "Rating1=[]"
   ]
  },
  {
   "cell_type": "code",
   "execution_count": 62,
   "metadata": {},
   "outputs": [
    {
     "data": {
      "text/plain": [
       "['Tammy Beaumont']"
      ]
     },
     "execution_count": 62,
     "metadata": {},
     "output_type": "execute_result"
    }
   ],
   "source": [
    "for i in names:\n",
    "    Names.append(i.text)\n",
    "Names"
   ]
  },
  {
   "cell_type": "code",
   "execution_count": 63,
   "metadata": {},
   "outputs": [
    {
     "data": {
      "text/html": [
       "<div>\n",
       "<style scoped>\n",
       "    .dataframe tbody tr th:only-of-type {\n",
       "        vertical-align: middle;\n",
       "    }\n",
       "\n",
       "    .dataframe tbody tr th {\n",
       "        vertical-align: top;\n",
       "    }\n",
       "\n",
       "    .dataframe thead th {\n",
       "        text-align: right;\n",
       "    }\n",
       "</style>\n",
       "<table border=\"1\" class=\"dataframe\">\n",
       "  <thead>\n",
       "    <tr style=\"text-align: right;\">\n",
       "      <th></th>\n",
       "      <th>Player Name</th>\n",
       "    </tr>\n",
       "  </thead>\n",
       "  <tbody>\n",
       "    <tr>\n",
       "      <th>0</th>\n",
       "      <td>Tammy Beaumont</td>\n",
       "    </tr>\n",
       "  </tbody>\n",
       "</table>\n",
       "</div>"
      ],
      "text/plain": [
       "      Player Name\n",
       "0  Tammy Beaumont"
      ]
     },
     "execution_count": 63,
     "metadata": {},
     "output_type": "execute_result"
    }
   ],
   "source": [
    "df17=pd.DataFrame(Names)\n",
    "df17=df17.rename({0:'Player Name'},axis=1)\n",
    "df17"
   ]
  },
  {
   "cell_type": "code",
   "execution_count": 64,
   "metadata": {},
   "outputs": [
    {
     "data": {
      "text/plain": [
       "['\\n\\nENG\\n                    ']"
      ]
     },
     "execution_count": 64,
     "metadata": {},
     "output_type": "execute_result"
    }
   ],
   "source": [
    "for i in team:\n",
    "    Team.append(i.text)\n",
    "Team"
   ]
  },
  {
   "cell_type": "code",
   "execution_count": 65,
   "metadata": {},
   "outputs": [
    {
     "data": {
      "text/html": [
       "<div>\n",
       "<style scoped>\n",
       "    .dataframe tbody tr th:only-of-type {\n",
       "        vertical-align: middle;\n",
       "    }\n",
       "\n",
       "    .dataframe tbody tr th {\n",
       "        vertical-align: top;\n",
       "    }\n",
       "\n",
       "    .dataframe thead th {\n",
       "        text-align: right;\n",
       "    }\n",
       "</style>\n",
       "<table border=\"1\" class=\"dataframe\">\n",
       "  <thead>\n",
       "    <tr style=\"text-align: right;\">\n",
       "      <th></th>\n",
       "      <th>Team</th>\n",
       "    </tr>\n",
       "  </thead>\n",
       "  <tbody>\n",
       "    <tr>\n",
       "      <th>0</th>\n",
       "      <td>ENG</td>\n",
       "    </tr>\n",
       "  </tbody>\n",
       "</table>\n",
       "</div>"
      ],
      "text/plain": [
       "                         Team\n",
       "0    ENG                     "
      ]
     },
     "execution_count": 65,
     "metadata": {},
     "output_type": "execute_result"
    }
   ],
   "source": [
    "df18=pd.DataFrame(Team)\n",
    "df18[0]=df18[0].str.replace('\\n',' ')\n",
    "df18=df18.rename({0:'Team'},axis=1)\n",
    "df18"
   ]
  },
  {
   "cell_type": "code",
   "execution_count": 66,
   "metadata": {},
   "outputs": [
    {
     "data": {
      "text/plain": [
       "['765']"
      ]
     },
     "execution_count": 66,
     "metadata": {},
     "output_type": "execute_result"
    }
   ],
   "source": [
    "for i in rating:\n",
    "    Rating.append(i.text)\n",
    "Rating"
   ]
  },
  {
   "cell_type": "code",
   "execution_count": 67,
   "metadata": {},
   "outputs": [
    {
     "data": {
      "text/html": [
       "<div>\n",
       "<style scoped>\n",
       "    .dataframe tbody tr th:only-of-type {\n",
       "        vertical-align: middle;\n",
       "    }\n",
       "\n",
       "    .dataframe tbody tr th {\n",
       "        vertical-align: top;\n",
       "    }\n",
       "\n",
       "    .dataframe thead th {\n",
       "        text-align: right;\n",
       "    }\n",
       "</style>\n",
       "<table border=\"1\" class=\"dataframe\">\n",
       "  <thead>\n",
       "    <tr style=\"text-align: right;\">\n",
       "      <th></th>\n",
       "      <th>Rating</th>\n",
       "    </tr>\n",
       "  </thead>\n",
       "  <tbody>\n",
       "    <tr>\n",
       "      <th>0</th>\n",
       "      <td>765</td>\n",
       "    </tr>\n",
       "  </tbody>\n",
       "</table>\n",
       "</div>"
      ],
      "text/plain": [
       "  Rating\n",
       "0    765"
      ]
     },
     "execution_count": 67,
     "metadata": {},
     "output_type": "execute_result"
    }
   ],
   "source": [
    "df19=pd.DataFrame(Rating)\n",
    "df19=df19.rename({0:'Rating'},axis=1)\n",
    "df19"
   ]
  },
  {
   "cell_type": "code",
   "execution_count": 68,
   "metadata": {},
   "outputs": [
    {
     "data": {
      "text/html": [
       "<div>\n",
       "<style scoped>\n",
       "    .dataframe tbody tr th:only-of-type {\n",
       "        vertical-align: middle;\n",
       "    }\n",
       "\n",
       "    .dataframe tbody tr th {\n",
       "        vertical-align: top;\n",
       "    }\n",
       "\n",
       "    .dataframe thead th {\n",
       "        text-align: right;\n",
       "    }\n",
       "</style>\n",
       "<table border=\"1\" class=\"dataframe\">\n",
       "  <thead>\n",
       "    <tr style=\"text-align: right;\">\n",
       "      <th></th>\n",
       "      <th>Player Name</th>\n",
       "      <th>Team</th>\n",
       "      <th>Rating</th>\n",
       "    </tr>\n",
       "  </thead>\n",
       "  <tbody>\n",
       "    <tr>\n",
       "      <th>0</th>\n",
       "      <td>Tammy Beaumont</td>\n",
       "      <td>ENG</td>\n",
       "      <td>765</td>\n",
       "    </tr>\n",
       "  </tbody>\n",
       "</table>\n",
       "</div>"
      ],
      "text/plain": [
       "      Player Name                        Team Rating\n",
       "0  Tammy Beaumont    ENG                         765"
      ]
     },
     "execution_count": 68,
     "metadata": {},
     "output_type": "execute_result"
    }
   ],
   "source": [
    "player=pd.concat([df17,df18,df19],axis=1)\n",
    "player"
   ]
  },
  {
   "cell_type": "code",
   "execution_count": 69,
   "metadata": {},
   "outputs": [
    {
     "name": "stdout",
     "output_type": "stream",
     "text": [
      "99\n",
      "99\n",
      "99\n"
     ]
    }
   ],
   "source": [
    "names1=soup.findAll('td',attrs={'class':'table-body__cell rankings-table__name name'})\n",
    "print(len(names1))\n",
    "team1=soup.findAll('td',attrs={'class':'table-body__cell nationality-logo rankings-table__team'})\n",
    "print(len(team1))\n",
    "rating1=soup.findAll('td',attrs={'class':'table-body__cell rating'})\n",
    "print(len(rating1))"
   ]
  },
  {
   "cell_type": "code",
   "execution_count": 70,
   "metadata": {},
   "outputs": [
    {
     "data": {
      "text/plain": [
       "['\\nLizelle Lee\\n',\n",
       " '\\nAlyssa Healy\\n',\n",
       " '\\nStafanie Taylor\\n',\n",
       " '\\nMeg Lanning\\n',\n",
       " '\\nAmy Satterthwaite\\n',\n",
       " '\\nSmriti Mandhana\\n',\n",
       " '\\nMithali Raj\\n',\n",
       " '\\nNatalie Sciver\\n',\n",
       " '\\nLaura Wolvaardt\\n',\n",
       " '\\nEllyse Perry\\n',\n",
       " '\\nChamari Athapaththu\\n',\n",
       " '\\nHeather Knight\\n',\n",
       " '\\nRachael Haynes\\n',\n",
       " '\\nHarmanpreet Kaur\\n',\n",
       " '\\nMignon du Preez\\n',\n",
       " '\\nBeth Mooney\\n',\n",
       " '\\nPoonam Raut\\n',\n",
       " '\\nSuzie Bates\\n',\n",
       " '\\nSophie Devine\\n',\n",
       " '\\nDeepti Sharma\\n',\n",
       " '\\nMarizanne Kapp\\n',\n",
       " '\\nNahida Khan\\n',\n",
       " '\\nAmy Jones\\n',\n",
       " '\\nJaveria Khan\\n',\n",
       " '\\nBismah Maroof\\n',\n",
       " '\\nDane van Niekerk\\n',\n",
       " '\\nHayley Matthews\\n',\n",
       " '\\nNicole Bolton\\n',\n",
       " '\\nFargana Hoque\\n',\n",
       " '\\nAshleigh Gardner\\n',\n",
       " '\\nRumana Ahmed\\n',\n",
       " '\\nChloe-Lesleigh Tryon\\n',\n",
       " '\\nKatie Perkins\\n',\n",
       " '\\nAliya Riaz\\n',\n",
       " '\\nDanielle Wyatt\\n',\n",
       " '\\nSune Luus\\n',\n",
       " '\\nAmelia Kerr\\n',\n",
       " '\\nJess Jonassen\\n',\n",
       " '\\nKatherine Brunt\\n',\n",
       " '\\nNida Dar\\n',\n",
       " '\\nTrisha Chetty\\n',\n",
       " '\\nKatey Martin\\n',\n",
       " '\\nHarshitha Madavi\\n',\n",
       " '\\nBrooke Halliday\\n',\n",
       " '\\nFran Wilson\\n',\n",
       " '\\nJemimah Rodriques\\n',\n",
       " '\\nShikha Pandey\\n',\n",
       " '\\nMaddie Green\\n',\n",
       " '\\nShemaine Campbelle\\n',\n",
       " '\\nDilani Manodara\\n',\n",
       " '\\nNigar Sultana\\n',\n",
       " '\\nUmaima Sohail\\n',\n",
       " '\\nPriya Punia\\n',\n",
       " '\\nLara Goodall\\n',\n",
       " '\\nLauren Winfield\\n',\n",
       " '\\nJhulan Goswami\\n',\n",
       " '\\nChedean Nation\\n',\n",
       " '\\nRachel Priest\\n',\n",
       " '\\nKyshona Knight\\n',\n",
       " '\\nKycia Knight\\n',\n",
       " '\\nLauren Down\\n',\n",
       " '\\nSidra Ameen\\n',\n",
       " '\\nNilakshi Silva\\n',\n",
       " '\\nNicola Carey\\n',\n",
       " '\\nHayley Jensen\\n',\n",
       " '\\nSheneta Grimmond\\n',\n",
       " '\\nSalma Khatun\\n',\n",
       " '\\nTaniya Bhatia\\n',\n",
       " '\\nGeorgia Wareham\\n',\n",
       " '\\nPoonam Yadav\\n',\n",
       " '\\nAnne Bosch\\n',\n",
       " '\\nAndrie Steyn\\n',\n",
       " '\\nAvanthika Mendis\\n',\n",
       " '\\nAnya Shrubsole\\n',\n",
       " '\\nNatasha McLean\\n',\n",
       " '\\nSharmin Supta\\n',\n",
       " '\\nRajeshwari Gayakwad\\n',\n",
       " '\\nLeigh Kasperek\\n',\n",
       " '\\nAnushka Sanjeewani\\n',\n",
       " '\\nKate Cross\\n',\n",
       " '\\nInoka Ranaweera\\n',\n",
       " '\\nLea Tahuhu\\n',\n",
       " '\\nStacy-Ann King\\n',\n",
       " '\\nMegan Schutt\\n',\n",
       " '\\nOshadi Ranasinghe\\n',\n",
       " '\\nNashra Sandhu\\n',\n",
       " '\\nSushma Verma\\n',\n",
       " '\\nChinelle Henry\\n',\n",
       " '\\nShamilia Connell\\n',\n",
       " '\\nSanjida Islam\\n',\n",
       " '\\nJess Kerr\\n',\n",
       " '\\nHannah Rowe\\n',\n",
       " '\\nShabnim Ismail\\n',\n",
       " '\\nAfy Fletcher\\n',\n",
       " '\\nSophie Ecclestone\\n',\n",
       " '\\nDiana Baig\\n',\n",
       " '\\nSidra Nawaz\\n',\n",
       " '\\nPanna Ghosh\\n',\n",
       " '\\nAma Kanchana\\n']"
      ]
     },
     "execution_count": 70,
     "metadata": {},
     "output_type": "execute_result"
    }
   ],
   "source": [
    "for i in names1:\n",
    "    Names1.append(i.text)\n",
    "Names1"
   ]
  },
  {
   "cell_type": "code",
   "execution_count": 71,
   "metadata": {},
   "outputs": [
    {
     "data": {
      "text/html": [
       "<div>\n",
       "<style scoped>\n",
       "    .dataframe tbody tr th:only-of-type {\n",
       "        vertical-align: middle;\n",
       "    }\n",
       "\n",
       "    .dataframe tbody tr th {\n",
       "        vertical-align: top;\n",
       "    }\n",
       "\n",
       "    .dataframe thead th {\n",
       "        text-align: right;\n",
       "    }\n",
       "</style>\n",
       "<table border=\"1\" class=\"dataframe\">\n",
       "  <thead>\n",
       "    <tr style=\"text-align: right;\">\n",
       "      <th></th>\n",
       "      <th>Player Name</th>\n",
       "    </tr>\n",
       "  </thead>\n",
       "  <tbody>\n",
       "    <tr>\n",
       "      <th>0</th>\n",
       "      <td>Lizelle Lee</td>\n",
       "    </tr>\n",
       "    <tr>\n",
       "      <th>1</th>\n",
       "      <td>Alyssa Healy</td>\n",
       "    </tr>\n",
       "    <tr>\n",
       "      <th>2</th>\n",
       "      <td>Stafanie Taylor</td>\n",
       "    </tr>\n",
       "    <tr>\n",
       "      <th>3</th>\n",
       "      <td>Meg Lanning</td>\n",
       "    </tr>\n",
       "    <tr>\n",
       "      <th>4</th>\n",
       "      <td>Amy Satterthwaite</td>\n",
       "    </tr>\n",
       "    <tr>\n",
       "      <th>5</th>\n",
       "      <td>Smriti Mandhana</td>\n",
       "    </tr>\n",
       "    <tr>\n",
       "      <th>6</th>\n",
       "      <td>Mithali Raj</td>\n",
       "    </tr>\n",
       "    <tr>\n",
       "      <th>7</th>\n",
       "      <td>Natalie Sciver</td>\n",
       "    </tr>\n",
       "    <tr>\n",
       "      <th>8</th>\n",
       "      <td>Laura Wolvaardt</td>\n",
       "    </tr>\n",
       "  </tbody>\n",
       "</table>\n",
       "</div>"
      ],
      "text/plain": [
       "           Player Name\n",
       "0         Lizelle Lee \n",
       "1        Alyssa Healy \n",
       "2     Stafanie Taylor \n",
       "3         Meg Lanning \n",
       "4   Amy Satterthwaite \n",
       "5     Smriti Mandhana \n",
       "6         Mithali Raj \n",
       "7      Natalie Sciver \n",
       "8     Laura Wolvaardt "
      ]
     },
     "execution_count": 71,
     "metadata": {},
     "output_type": "execute_result"
    }
   ],
   "source": [
    "df20=pd.DataFrame(Names1)\n",
    "df20[0]=df20[0].str.replace('\\n',' ')\n",
    "df20=df20.rename({0:'Player Name'},axis=1)\n",
    "df20=df20.iloc[0:9]\n",
    "df20"
   ]
  },
  {
   "cell_type": "code",
   "execution_count": 72,
   "metadata": {},
   "outputs": [
    {
     "data": {
      "text/plain": [
       "['\\n\\nSA\\n',\n",
       " '\\n\\nAUS\\n',\n",
       " '\\n\\nWI\\n',\n",
       " '\\n\\nAUS\\n',\n",
       " '\\n\\nNZ\\n',\n",
       " '\\n\\nIND\\n',\n",
       " '\\n\\nIND\\n',\n",
       " '\\n\\nENG\\n',\n",
       " '\\n\\nSA\\n',\n",
       " '\\n\\nAUS\\n',\n",
       " '\\n\\nSL\\n',\n",
       " '\\n\\nENG\\n',\n",
       " '\\n\\nAUS\\n',\n",
       " '\\n\\nIND\\n',\n",
       " '\\n\\nSA\\n',\n",
       " '\\n\\nAUS\\n',\n",
       " '\\n\\nIND\\n',\n",
       " '\\n\\nNZ\\n',\n",
       " '\\n\\nNZ\\n',\n",
       " '\\n\\nIND\\n',\n",
       " '\\n\\nSA\\n',\n",
       " '\\n\\nPAK\\n',\n",
       " '\\n\\nENG\\n',\n",
       " '\\n\\nPAK\\n',\n",
       " '\\n\\nPAK\\n',\n",
       " '\\n\\nSA\\n',\n",
       " '\\n\\nWI\\n',\n",
       " '\\n\\nAUS\\n',\n",
       " '\\n\\nBAN\\n',\n",
       " '\\n\\nAUS\\n',\n",
       " '\\n\\nBAN\\n',\n",
       " '\\n\\nSA\\n',\n",
       " '\\n\\nNZ\\n',\n",
       " '\\n\\nPAK\\n',\n",
       " '\\n\\nENG\\n',\n",
       " '\\n\\nSA\\n',\n",
       " '\\n\\nNZ\\n',\n",
       " '\\n\\nAUS\\n',\n",
       " '\\n\\nENG\\n',\n",
       " '\\n\\nPAK\\n',\n",
       " '\\n\\nSA\\n',\n",
       " '\\n\\nNZ\\n',\n",
       " '\\n\\nSL\\n',\n",
       " '\\n\\nNZ\\n',\n",
       " '\\n\\nENG\\n',\n",
       " '\\n\\nIND\\n',\n",
       " '\\n\\nIND\\n',\n",
       " '\\n\\nNZ\\n',\n",
       " '\\n\\nWI\\n',\n",
       " '\\n\\nSL\\n',\n",
       " '\\n\\nBAN\\n',\n",
       " '\\n\\nPAK\\n',\n",
       " '\\n\\nIND\\n',\n",
       " '\\n\\nSA\\n',\n",
       " '\\n\\nENG\\n',\n",
       " '\\n\\nIND\\n',\n",
       " '\\n\\nWI\\n',\n",
       " '\\n\\nNZ\\n',\n",
       " '\\n\\nWI\\n',\n",
       " '\\n\\nWI\\n',\n",
       " '\\n\\nNZ\\n',\n",
       " '\\n\\nPAK\\n',\n",
       " '\\n\\nSL\\n',\n",
       " '\\n\\nAUS\\n',\n",
       " '\\n\\nNZ\\n',\n",
       " '\\n\\nWI\\n',\n",
       " '\\n\\nBAN\\n',\n",
       " '\\n\\nIND\\n',\n",
       " '\\n\\nAUS\\n',\n",
       " '\\n\\nIND\\n',\n",
       " '\\n\\nSA\\n',\n",
       " '\\n\\nSA\\n',\n",
       " '\\n\\nSL\\n',\n",
       " '\\n\\nENG\\n',\n",
       " '\\n\\nWI\\n',\n",
       " '\\n\\nBAN\\n',\n",
       " '\\n\\nIND\\n',\n",
       " '\\n\\nNZ\\n',\n",
       " '\\n\\nSL\\n',\n",
       " '\\n\\nENG\\n',\n",
       " '\\n\\nSL\\n',\n",
       " '\\n\\nNZ\\n',\n",
       " '\\n\\nWI\\n',\n",
       " '\\n\\nAUS\\n',\n",
       " '\\n\\nSL\\n',\n",
       " '\\n\\nPAK\\n',\n",
       " '\\n\\nIND\\n',\n",
       " '\\n\\nWI\\n',\n",
       " '\\n\\nWI\\n',\n",
       " '\\n\\nBAN\\n',\n",
       " '\\n\\nNZ\\n',\n",
       " '\\n\\nNZ\\n',\n",
       " '\\n\\nSA\\n',\n",
       " '\\n\\nWI\\n',\n",
       " '\\n\\nENG\\n',\n",
       " '\\n\\nPAK\\n',\n",
       " '\\n\\nPAK\\n',\n",
       " '\\n\\nBAN\\n',\n",
       " '\\n\\nSL\\n',\n",
       " '\\n\\nSA\\n',\n",
       " '\\n\\nAUS\\n',\n",
       " '\\n\\nWI\\n',\n",
       " '\\n\\nAUS\\n',\n",
       " '\\n\\nNZ\\n',\n",
       " '\\n\\nIND\\n',\n",
       " '\\n\\nIND\\n',\n",
       " '\\n\\nENG\\n',\n",
       " '\\n\\nSA\\n',\n",
       " '\\n\\nAUS\\n',\n",
       " '\\n\\nSL\\n',\n",
       " '\\n\\nENG\\n',\n",
       " '\\n\\nAUS\\n',\n",
       " '\\n\\nIND\\n',\n",
       " '\\n\\nSA\\n',\n",
       " '\\n\\nAUS\\n',\n",
       " '\\n\\nIND\\n',\n",
       " '\\n\\nNZ\\n',\n",
       " '\\n\\nNZ\\n',\n",
       " '\\n\\nIND\\n',\n",
       " '\\n\\nSA\\n',\n",
       " '\\n\\nPAK\\n',\n",
       " '\\n\\nENG\\n',\n",
       " '\\n\\nPAK\\n',\n",
       " '\\n\\nPAK\\n',\n",
       " '\\n\\nSA\\n',\n",
       " '\\n\\nWI\\n',\n",
       " '\\n\\nAUS\\n',\n",
       " '\\n\\nBAN\\n',\n",
       " '\\n\\nAUS\\n',\n",
       " '\\n\\nBAN\\n',\n",
       " '\\n\\nSA\\n',\n",
       " '\\n\\nNZ\\n',\n",
       " '\\n\\nPAK\\n',\n",
       " '\\n\\nENG\\n',\n",
       " '\\n\\nSA\\n',\n",
       " '\\n\\nNZ\\n',\n",
       " '\\n\\nAUS\\n',\n",
       " '\\n\\nENG\\n',\n",
       " '\\n\\nPAK\\n',\n",
       " '\\n\\nSA\\n',\n",
       " '\\n\\nNZ\\n',\n",
       " '\\n\\nSL\\n',\n",
       " '\\n\\nNZ\\n',\n",
       " '\\n\\nENG\\n',\n",
       " '\\n\\nIND\\n',\n",
       " '\\n\\nIND\\n',\n",
       " '\\n\\nNZ\\n',\n",
       " '\\n\\nWI\\n',\n",
       " '\\n\\nSL\\n',\n",
       " '\\n\\nBAN\\n',\n",
       " '\\n\\nPAK\\n',\n",
       " '\\n\\nIND\\n',\n",
       " '\\n\\nSA\\n',\n",
       " '\\n\\nENG\\n',\n",
       " '\\n\\nIND\\n',\n",
       " '\\n\\nWI\\n',\n",
       " '\\n\\nNZ\\n',\n",
       " '\\n\\nWI\\n',\n",
       " '\\n\\nWI\\n',\n",
       " '\\n\\nNZ\\n',\n",
       " '\\n\\nPAK\\n',\n",
       " '\\n\\nSL\\n',\n",
       " '\\n\\nAUS\\n',\n",
       " '\\n\\nNZ\\n',\n",
       " '\\n\\nWI\\n',\n",
       " '\\n\\nBAN\\n',\n",
       " '\\n\\nIND\\n',\n",
       " '\\n\\nAUS\\n',\n",
       " '\\n\\nIND\\n',\n",
       " '\\n\\nSA\\n',\n",
       " '\\n\\nSA\\n',\n",
       " '\\n\\nSL\\n',\n",
       " '\\n\\nENG\\n',\n",
       " '\\n\\nWI\\n',\n",
       " '\\n\\nBAN\\n',\n",
       " '\\n\\nIND\\n',\n",
       " '\\n\\nNZ\\n',\n",
       " '\\n\\nSL\\n',\n",
       " '\\n\\nENG\\n',\n",
       " '\\n\\nSL\\n',\n",
       " '\\n\\nNZ\\n',\n",
       " '\\n\\nWI\\n',\n",
       " '\\n\\nAUS\\n',\n",
       " '\\n\\nSL\\n',\n",
       " '\\n\\nPAK\\n',\n",
       " '\\n\\nIND\\n',\n",
       " '\\n\\nWI\\n',\n",
       " '\\n\\nWI\\n',\n",
       " '\\n\\nBAN\\n',\n",
       " '\\n\\nNZ\\n',\n",
       " '\\n\\nNZ\\n',\n",
       " '\\n\\nSA\\n',\n",
       " '\\n\\nWI\\n',\n",
       " '\\n\\nENG\\n',\n",
       " '\\n\\nPAK\\n',\n",
       " '\\n\\nPAK\\n',\n",
       " '\\n\\nBAN\\n',\n",
       " '\\n\\nSL\\n']"
      ]
     },
     "execution_count": 72,
     "metadata": {},
     "output_type": "execute_result"
    }
   ],
   "source": [
    "for i in team1:\n",
    "    Team1.append(i.text)\n",
    "Team1"
   ]
  },
  {
   "cell_type": "code",
   "execution_count": 73,
   "metadata": {},
   "outputs": [
    {
     "data": {
      "text/html": [
       "<div>\n",
       "<style scoped>\n",
       "    .dataframe tbody tr th:only-of-type {\n",
       "        vertical-align: middle;\n",
       "    }\n",
       "\n",
       "    .dataframe tbody tr th {\n",
       "        vertical-align: top;\n",
       "    }\n",
       "\n",
       "    .dataframe thead th {\n",
       "        text-align: right;\n",
       "    }\n",
       "</style>\n",
       "<table border=\"1\" class=\"dataframe\">\n",
       "  <thead>\n",
       "    <tr style=\"text-align: right;\">\n",
       "      <th></th>\n",
       "      <th>Team</th>\n",
       "    </tr>\n",
       "  </thead>\n",
       "  <tbody>\n",
       "    <tr>\n",
       "      <th>0</th>\n",
       "      <td>SA</td>\n",
       "    </tr>\n",
       "    <tr>\n",
       "      <th>1</th>\n",
       "      <td>AUS</td>\n",
       "    </tr>\n",
       "    <tr>\n",
       "      <th>2</th>\n",
       "      <td>WI</td>\n",
       "    </tr>\n",
       "    <tr>\n",
       "      <th>3</th>\n",
       "      <td>AUS</td>\n",
       "    </tr>\n",
       "    <tr>\n",
       "      <th>4</th>\n",
       "      <td>NZ</td>\n",
       "    </tr>\n",
       "    <tr>\n",
       "      <th>5</th>\n",
       "      <td>IND</td>\n",
       "    </tr>\n",
       "    <tr>\n",
       "      <th>6</th>\n",
       "      <td>IND</td>\n",
       "    </tr>\n",
       "    <tr>\n",
       "      <th>7</th>\n",
       "      <td>ENG</td>\n",
       "    </tr>\n",
       "    <tr>\n",
       "      <th>8</th>\n",
       "      <td>SA</td>\n",
       "    </tr>\n",
       "  </tbody>\n",
       "</table>\n",
       "</div>"
      ],
      "text/plain": [
       "     Team\n",
       "0     SA \n",
       "1    AUS \n",
       "2     WI \n",
       "3    AUS \n",
       "4     NZ \n",
       "5    IND \n",
       "6    IND \n",
       "7    ENG \n",
       "8     SA "
      ]
     },
     "execution_count": 73,
     "metadata": {},
     "output_type": "execute_result"
    }
   ],
   "source": [
    "df21=pd.DataFrame(Team1)\n",
    "df21[0]=df21[0].str.replace('\\n',' ')\n",
    "df21=df21.rename({0:'Team'},axis=1)\n",
    "df21=df21.iloc[0:9]\n",
    "df21"
   ]
  },
  {
   "cell_type": "code",
   "execution_count": 74,
   "metadata": {},
   "outputs": [
    {
     "data": {
      "text/plain": [
       "['758',\n",
       " '756',\n",
       " '746',\n",
       " '723',\n",
       " '715',\n",
       " '710',\n",
       " '709',\n",
       " '685',\n",
       " '683',\n",
       " '679',\n",
       " '667',\n",
       " '666',\n",
       " '657',\n",
       " '636',\n",
       " '620',\n",
       " '600',\n",
       " '593',\n",
       " '577',\n",
       " '573',\n",
       " '568',\n",
       " '560',\n",
       " '560',\n",
       " '536',\n",
       " '536',\n",
       " '520',\n",
       " '498',\n",
       " '461',\n",
       " '456',\n",
       " '445',\n",
       " '440',\n",
       " '437',\n",
       " '437',\n",
       " '413',\n",
       " '410',\n",
       " '404',\n",
       " '398',\n",
       " '396',\n",
       " '380',\n",
       " '361',\n",
       " '360',\n",
       " '359',\n",
       " '357',\n",
       " '353',\n",
       " '350',\n",
       " '341',\n",
       " '337',\n",
       " '335',\n",
       " '320',\n",
       " '319',\n",
       " '319',\n",
       " '317',\n",
       " '310',\n",
       " '305',\n",
       " '305',\n",
       " '302',\n",
       " '294',\n",
       " '292',\n",
       " '285',\n",
       " '281',\n",
       " '276',\n",
       " '264',\n",
       " '264',\n",
       " '261',\n",
       " '259',\n",
       " '256',\n",
       " '252',\n",
       " '244',\n",
       " '240',\n",
       " '239',\n",
       " '236',\n",
       " '234',\n",
       " '234',\n",
       " '226',\n",
       " '225',\n",
       " '224',\n",
       " '221',\n",
       " '220',\n",
       " '219',\n",
       " '211',\n",
       " '208',\n",
       " '205',\n",
       " '204',\n",
       " '201',\n",
       " '195',\n",
       " '195',\n",
       " '192',\n",
       " '190',\n",
       " '188',\n",
       " '186',\n",
       " '181',\n",
       " '179',\n",
       " '179',\n",
       " '178',\n",
       " '175',\n",
       " '172',\n",
       " '170',\n",
       " '168',\n",
       " '166',\n",
       " '161']"
      ]
     },
     "execution_count": 74,
     "metadata": {},
     "output_type": "execute_result"
    }
   ],
   "source": [
    "for i in rating1:\n",
    "    Rating1.append(i.text)\n",
    "Rating1"
   ]
  },
  {
   "cell_type": "code",
   "execution_count": 75,
   "metadata": {},
   "outputs": [
    {
     "data": {
      "text/html": [
       "<div>\n",
       "<style scoped>\n",
       "    .dataframe tbody tr th:only-of-type {\n",
       "        vertical-align: middle;\n",
       "    }\n",
       "\n",
       "    .dataframe tbody tr th {\n",
       "        vertical-align: top;\n",
       "    }\n",
       "\n",
       "    .dataframe thead th {\n",
       "        text-align: right;\n",
       "    }\n",
       "</style>\n",
       "<table border=\"1\" class=\"dataframe\">\n",
       "  <thead>\n",
       "    <tr style=\"text-align: right;\">\n",
       "      <th></th>\n",
       "      <th>Rating</th>\n",
       "    </tr>\n",
       "  </thead>\n",
       "  <tbody>\n",
       "    <tr>\n",
       "      <th>0</th>\n",
       "      <td>758</td>\n",
       "    </tr>\n",
       "    <tr>\n",
       "      <th>1</th>\n",
       "      <td>756</td>\n",
       "    </tr>\n",
       "    <tr>\n",
       "      <th>2</th>\n",
       "      <td>746</td>\n",
       "    </tr>\n",
       "    <tr>\n",
       "      <th>3</th>\n",
       "      <td>723</td>\n",
       "    </tr>\n",
       "    <tr>\n",
       "      <th>4</th>\n",
       "      <td>715</td>\n",
       "    </tr>\n",
       "    <tr>\n",
       "      <th>5</th>\n",
       "      <td>710</td>\n",
       "    </tr>\n",
       "    <tr>\n",
       "      <th>6</th>\n",
       "      <td>709</td>\n",
       "    </tr>\n",
       "    <tr>\n",
       "      <th>7</th>\n",
       "      <td>685</td>\n",
       "    </tr>\n",
       "    <tr>\n",
       "      <th>8</th>\n",
       "      <td>683</td>\n",
       "    </tr>\n",
       "  </tbody>\n",
       "</table>\n",
       "</div>"
      ],
      "text/plain": [
       "  Rating\n",
       "0    758\n",
       "1    756\n",
       "2    746\n",
       "3    723\n",
       "4    715\n",
       "5    710\n",
       "6    709\n",
       "7    685\n",
       "8    683"
      ]
     },
     "execution_count": 75,
     "metadata": {},
     "output_type": "execute_result"
    }
   ],
   "source": [
    "df22=pd.DataFrame(Rating1)\n",
    "df22=df22.rename({0:'Rating'},axis=1)\n",
    "df22=df22.iloc[0:9]\n",
    "df22"
   ]
  },
  {
   "cell_type": "code",
   "execution_count": 76,
   "metadata": {},
   "outputs": [
    {
     "data": {
      "text/html": [
       "<div>\n",
       "<style scoped>\n",
       "    .dataframe tbody tr th:only-of-type {\n",
       "        vertical-align: middle;\n",
       "    }\n",
       "\n",
       "    .dataframe tbody tr th {\n",
       "        vertical-align: top;\n",
       "    }\n",
       "\n",
       "    .dataframe thead th {\n",
       "        text-align: right;\n",
       "    }\n",
       "</style>\n",
       "<table border=\"1\" class=\"dataframe\">\n",
       "  <thead>\n",
       "    <tr style=\"text-align: right;\">\n",
       "      <th></th>\n",
       "      <th>Player Name</th>\n",
       "      <th>Team</th>\n",
       "      <th>Rating</th>\n",
       "    </tr>\n",
       "  </thead>\n",
       "  <tbody>\n",
       "    <tr>\n",
       "      <th>0</th>\n",
       "      <td>Lizelle Lee</td>\n",
       "      <td>SA</td>\n",
       "      <td>758</td>\n",
       "    </tr>\n",
       "    <tr>\n",
       "      <th>1</th>\n",
       "      <td>Alyssa Healy</td>\n",
       "      <td>AUS</td>\n",
       "      <td>756</td>\n",
       "    </tr>\n",
       "    <tr>\n",
       "      <th>2</th>\n",
       "      <td>Stafanie Taylor</td>\n",
       "      <td>WI</td>\n",
       "      <td>746</td>\n",
       "    </tr>\n",
       "    <tr>\n",
       "      <th>3</th>\n",
       "      <td>Meg Lanning</td>\n",
       "      <td>AUS</td>\n",
       "      <td>723</td>\n",
       "    </tr>\n",
       "    <tr>\n",
       "      <th>4</th>\n",
       "      <td>Amy Satterthwaite</td>\n",
       "      <td>NZ</td>\n",
       "      <td>715</td>\n",
       "    </tr>\n",
       "    <tr>\n",
       "      <th>5</th>\n",
       "      <td>Smriti Mandhana</td>\n",
       "      <td>IND</td>\n",
       "      <td>710</td>\n",
       "    </tr>\n",
       "    <tr>\n",
       "      <th>6</th>\n",
       "      <td>Mithali Raj</td>\n",
       "      <td>IND</td>\n",
       "      <td>709</td>\n",
       "    </tr>\n",
       "    <tr>\n",
       "      <th>7</th>\n",
       "      <td>Natalie Sciver</td>\n",
       "      <td>ENG</td>\n",
       "      <td>685</td>\n",
       "    </tr>\n",
       "    <tr>\n",
       "      <th>8</th>\n",
       "      <td>Laura Wolvaardt</td>\n",
       "      <td>SA</td>\n",
       "      <td>683</td>\n",
       "    </tr>\n",
       "  </tbody>\n",
       "</table>\n",
       "</div>"
      ],
      "text/plain": [
       "           Player Name    Team Rating\n",
       "0         Lizelle Lee      SA     758\n",
       "1        Alyssa Healy     AUS     756\n",
       "2     Stafanie Taylor      WI     746\n",
       "3         Meg Lanning     AUS     723\n",
       "4   Amy Satterthwaite      NZ     715\n",
       "5     Smriti Mandhana     IND     710\n",
       "6         Mithali Raj     IND     709\n",
       "7      Natalie Sciver     ENG     685\n",
       "8     Laura Wolvaardt      SA     683"
      ]
     },
     "execution_count": 76,
     "metadata": {},
     "output_type": "execute_result"
    }
   ],
   "source": [
    "player1=pd.concat([df20,df21,df22],axis=1)\n",
    "player1"
   ]
  },
  {
   "cell_type": "code",
   "execution_count": 77,
   "metadata": {},
   "outputs": [
    {
     "data": {
      "text/html": [
       "<div>\n",
       "<style scoped>\n",
       "    .dataframe tbody tr th:only-of-type {\n",
       "        vertical-align: middle;\n",
       "    }\n",
       "\n",
       "    .dataframe tbody tr th {\n",
       "        vertical-align: top;\n",
       "    }\n",
       "\n",
       "    .dataframe thead th {\n",
       "        text-align: right;\n",
       "    }\n",
       "</style>\n",
       "<table border=\"1\" class=\"dataframe\">\n",
       "  <thead>\n",
       "    <tr style=\"text-align: right;\">\n",
       "      <th></th>\n",
       "      <th>Player Name</th>\n",
       "      <th>Team</th>\n",
       "      <th>Rating</th>\n",
       "    </tr>\n",
       "  </thead>\n",
       "  <tbody>\n",
       "    <tr>\n",
       "      <th>0</th>\n",
       "      <td>Tammy Beaumont</td>\n",
       "      <td>ENG</td>\n",
       "      <td>765</td>\n",
       "    </tr>\n",
       "    <tr>\n",
       "      <th>1</th>\n",
       "      <td>Lizelle Lee</td>\n",
       "      <td>SA</td>\n",
       "      <td>758</td>\n",
       "    </tr>\n",
       "    <tr>\n",
       "      <th>2</th>\n",
       "      <td>Alyssa Healy</td>\n",
       "      <td>AUS</td>\n",
       "      <td>756</td>\n",
       "    </tr>\n",
       "    <tr>\n",
       "      <th>3</th>\n",
       "      <td>Stafanie Taylor</td>\n",
       "      <td>WI</td>\n",
       "      <td>746</td>\n",
       "    </tr>\n",
       "    <tr>\n",
       "      <th>4</th>\n",
       "      <td>Meg Lanning</td>\n",
       "      <td>AUS</td>\n",
       "      <td>723</td>\n",
       "    </tr>\n",
       "    <tr>\n",
       "      <th>5</th>\n",
       "      <td>Amy Satterthwaite</td>\n",
       "      <td>NZ</td>\n",
       "      <td>715</td>\n",
       "    </tr>\n",
       "    <tr>\n",
       "      <th>6</th>\n",
       "      <td>Smriti Mandhana</td>\n",
       "      <td>IND</td>\n",
       "      <td>710</td>\n",
       "    </tr>\n",
       "    <tr>\n",
       "      <th>7</th>\n",
       "      <td>Mithali Raj</td>\n",
       "      <td>IND</td>\n",
       "      <td>709</td>\n",
       "    </tr>\n",
       "    <tr>\n",
       "      <th>8</th>\n",
       "      <td>Natalie Sciver</td>\n",
       "      <td>ENG</td>\n",
       "      <td>685</td>\n",
       "    </tr>\n",
       "    <tr>\n",
       "      <th>9</th>\n",
       "      <td>Laura Wolvaardt</td>\n",
       "      <td>SA</td>\n",
       "      <td>683</td>\n",
       "    </tr>\n",
       "  </tbody>\n",
       "</table>\n",
       "</div>"
      ],
      "text/plain": [
       "           Player Name                        Team Rating\n",
       "0       Tammy Beaumont    ENG                         765\n",
       "1         Lizelle Lee                          SA     758\n",
       "2        Alyssa Healy                         AUS     756\n",
       "3     Stafanie Taylor                          WI     746\n",
       "4         Meg Lanning                         AUS     723\n",
       "5   Amy Satterthwaite                          NZ     715\n",
       "6     Smriti Mandhana                         IND     710\n",
       "7         Mithali Raj                         IND     709\n",
       "8      Natalie Sciver                         ENG     685\n",
       "9     Laura Wolvaardt                          SA     683"
      ]
     },
     "execution_count": 77,
     "metadata": {},
     "output_type": "execute_result"
    }
   ],
   "source": [
    "All_Rounder=pd.concat([player,player1],axis=0)\n",
    "All_Rounder.index=range(10)\n",
    "All_Rounder"
   ]
  },
  {
   "cell_type": "code",
   "execution_count": null,
   "metadata": {},
   "outputs": [],
   "source": []
  }
 ],
 "metadata": {
  "kernelspec": {
   "display_name": "Python 3",
   "language": "python",
   "name": "python3"
  },
  "language_info": {
   "codemirror_mode": {
    "name": "ipython",
    "version": 3
   },
   "file_extension": ".py",
   "mimetype": "text/x-python",
   "name": "python",
   "nbconvert_exporter": "python",
   "pygments_lexer": "ipython3",
   "version": "3.8.5"
  }
 },
 "nbformat": 4,
 "nbformat_minor": 4
}
